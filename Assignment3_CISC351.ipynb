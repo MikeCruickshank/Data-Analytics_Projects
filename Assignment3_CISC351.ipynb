{
 "cells": [
  {
   "cell_type": "markdown",
   "metadata": {},
   "source": [
    "# Assignment Three - CISC 351\n",
    "## Mike Cruickshank (10130161)"
   ]
  },
  {
   "cell_type": "code",
   "execution_count": 2,
   "metadata": {},
   "outputs": [],
   "source": [
    "import numpy as np\n",
    "import pandas as pd\n",
    "import matplotlib.pyplot as plt\n"
   ]
  },
  {
   "cell_type": "code",
   "execution_count": 3,
   "metadata": {},
   "outputs": [],
   "source": [
    "import sys\n",
    "\n",
    "# Suppress warnings about my bad code\n",
    "if not sys.warnoptions:\n",
    "    import warnings\n",
    "    warnings.simplefilter(\"ignore\")"
   ]
  },
  {
   "cell_type": "code",
   "execution_count": 4,
   "metadata": {},
   "outputs": [],
   "source": [
    "# function to turn a date string into int value representing days since Jan 1 2000\n",
    "def datestr_to_int(st):\n",
    "    y = int(st[:4])\n",
    "    m = int(st[5:7])\n",
    "    d = int(st[8:10])\n",
    "    return (365*(y-2000) + 30*m + d)\n",
    "    "
   ]
  },
  {
   "cell_type": "code",
   "execution_count": 5,
   "metadata": {},
   "outputs": [],
   "source": [
    "# function to turn a date int value representing days since Jan 1 2000 and return string\n",
    "def dateint_to_str(int_in):\n",
    "    y = int(int_in/365)+2000\n",
    "    m = int((int_in % 365)/30 + 1)\n",
    "    d = int((int_in % 365) % 30 + 1)\n",
    "    return [str(y) + '-' + str(m) + '-' + str(d)]\n",
    "    \n",
    "    "
   ]
  },
  {
   "cell_type": "markdown",
   "metadata": {},
   "source": [
    "Import Data:"
   ]
  },
  {
   "cell_type": "code",
   "execution_count": 6,
   "metadata": {},
   "outputs": [],
   "source": [
    "# N = 2000\n",
    "# events_info = pd.read_csv('events-info.csv', nrows = N)\n",
    "# groups_info = pd.read_csv('groups-info.csv', nrows = 10000)\n",
    "# members_info = pd.read_csv('members-info.csv', nrows = N)\n",
    "# raw_relations = pd.read_csv('raw member-to-event attendance.csv', nrows = N)"
   ]
  },
  {
   "cell_type": "code",
   "execution_count": 7,
   "metadata": {},
   "outputs": [],
   "source": [
    "\n",
    "events_info = pd.read_csv('events-info.csv') \n",
    "groups_info = pd.read_csv('groups-info.csv') \n",
    "members_info = pd.read_csv('members-info.csv') \n",
    "raw_relations = pd.read_csv('raw member-to-event attendance.csv')"
   ]
  },
  {
   "cell_type": "code",
   "execution_count": 8,
   "metadata": {},
   "outputs": [
    {
     "data": {
      "text/html": [
       "<div>\n",
       "<style scoped>\n",
       "    .dataframe tbody tr th:only-of-type {\n",
       "        vertical-align: middle;\n",
       "    }\n",
       "\n",
       "    .dataframe tbody tr th {\n",
       "        vertical-align: top;\n",
       "    }\n",
       "\n",
       "    .dataframe thead th {\n",
       "        text-align: right;\n",
       "    }\n",
       "</style>\n",
       "<table border=\"1\" class=\"dataframe\">\n",
       "  <thead>\n",
       "    <tr style=\"text-align: right;\">\n",
       "      <th></th>\n",
       "      <th>Unnamed: 0</th>\n",
       "      <th>event_id</th>\n",
       "      <th>member_id</th>\n",
       "      <th>group_id</th>\n",
       "    </tr>\n",
       "  </thead>\n",
       "  <tbody>\n",
       "    <tr>\n",
       "      <th>0</th>\n",
       "      <td>0</td>\n",
       "      <td>243930425</td>\n",
       "      <td>6770985</td>\n",
       "      <td>26140018</td>\n",
       "    </tr>\n",
       "    <tr>\n",
       "      <th>1</th>\n",
       "      <td>1</td>\n",
       "      <td>244208851</td>\n",
       "      <td>234724627</td>\n",
       "      <td>25604533</td>\n",
       "    </tr>\n",
       "    <tr>\n",
       "      <th>2</th>\n",
       "      <td>2</td>\n",
       "      <td>pxlktnywnbfb</td>\n",
       "      <td>199563568</td>\n",
       "      <td>25973656</td>\n",
       "    </tr>\n",
       "    <tr>\n",
       "      <th>3</th>\n",
       "      <td>3</td>\n",
       "      <td>pxlktnywnbfb</td>\n",
       "      <td>208888939</td>\n",
       "      <td>25973656</td>\n",
       "    </tr>\n",
       "    <tr>\n",
       "      <th>4</th>\n",
       "      <td>4</td>\n",
       "      <td>244444551</td>\n",
       "      <td>1720391</td>\n",
       "      <td>18571126</td>\n",
       "    </tr>\n",
       "  </tbody>\n",
       "</table>\n",
       "</div>"
      ],
      "text/plain": [
       "   Unnamed: 0      event_id  member_id  group_id\n",
       "0           0     243930425    6770985  26140018\n",
       "1           1     244208851  234724627  25604533\n",
       "2           2  pxlktnywnbfb  199563568  25973656\n",
       "3           3  pxlktnywnbfb  208888939  25973656\n",
       "4           4     244444551    1720391  18571126"
      ]
     },
     "execution_count": 8,
     "metadata": {},
     "output_type": "execute_result"
    }
   ],
   "source": [
    "raw_relations.head()\n"
   ]
  },
  {
   "cell_type": "markdown",
   "metadata": {},
   "source": [
    "#### Split data into four sets based on event time\n",
    "\n",
    "This was done in preparation for problem 3. "
   ]
  },
  {
   "cell_type": "code",
   "execution_count": 9,
   "metadata": {},
   "outputs": [
    {
     "name": "stdout",
     "output_type": "stream",
     "text": [
      "0% Complete\n",
      "9% Complete\n",
      "19% Complete\n",
      "29% Complete\n",
      "39% Complete\n",
      "49% Complete\n",
      "59% Complete\n",
      "69% Complete\n",
      "79% Complete\n",
      "89% Complete\n",
      "99% Complete\n"
     ]
    }
   ],
   "source": [
    "n_events = len(events_info)\n",
    "events_info['days_since_2000'] = np.zeros((n_events,1))\n",
    "for i in range(n_events):\n",
    "    if i % int((n_events/10)) == 0:\n",
    "        print('%d%% Complete' % (100*i/n_events))\n",
    "    events_info['days_since_2000'].iloc[i] = datestr_to_int(\n",
    "        events_info['time'].iloc[i])\n",
    "    "
   ]
  },
  {
   "cell_type": "code",
   "execution_count": 10,
   "metadata": {},
   "outputs": [
    {
     "name": "stdout",
     "output_type": "stream",
     "text": [
      "count    19307.000000\n",
      "mean      6254.746620\n",
      "std        202.061322\n",
      "min       5806.000000\n",
      "25%       6100.000000\n",
      "50%       6299.000000\n",
      "75%       6430.000000\n",
      "max       6535.000000\n",
      "Name: days_since_2000, dtype: float64\n"
     ]
    }
   ],
   "source": [
    "event_stats = events_info['days_since_2000'].describe()\n",
    "print(event_stats)"
   ]
  },
  {
   "cell_type": "code",
   "execution_count": 11,
   "metadata": {},
   "outputs": [
    {
     "name": "stdout",
     "output_type": "stream",
     "text": [
      "First 25% of events happen between T0 and T1\n",
      "Second 25% of events happen between T1 and T2\n",
      "Third 25% of events happen between T2 and T3\n",
      "Fourth 25% of events happen between T3 and T4\n",
      "T0 = ['2015-12-2']\n",
      "T1 = ['2016-9-21']\n",
      "T2 = ['2017-4-5']\n",
      "T3 = ['2017-8-16']\n",
      "T4 = ['2017-12-1']\n"
     ]
    }
   ],
   "source": [
    "print('First 25% of events happen between T0 and T1')\n",
    "print('Second 25% of events happen between T1 and T2' )\n",
    "print('Third 25% of events happen between T2 and T3')\n",
    "print('Fourth 25% of events happen between T3 and T4')\n",
    "\n",
    "print('T0 = ' + str(dateint_to_str(event_stats[3])))\n",
    "print('T1 = ' + str(dateint_to_str(event_stats[4])))\n",
    "print('T2 = ' + str(dateint_to_str(event_stats[5])))\n",
    "print('T3 = ' + str(dateint_to_str(event_stats[6])))\n",
    "print('T4 = ' + str(dateint_to_str(event_stats[7])))\n"
   ]
  },
  {
   "cell_type": "markdown",
   "metadata": {},
   "source": [
    "Data is split into four sets, based on date of event, for the purpose of link prediction in problem 3.\n",
    "\n",
    " * To train model, predict links made between T1 and T2 based on network at time T1\n",
    " * To test model, predict links made between T3 and T4 based on network at time T3\n",
    " * For problems 1 and 2, the complete network at time T4 will be used. However, networks will be created along the way for all four times to use in problem 3"
   ]
  },
  {
   "cell_type": "code",
   "execution_count": 12,
   "metadata": {},
   "outputs": [
    {
     "name": "stdout",
     "output_type": "stream",
     "text": [
      "(35687, 4)\n",
      "(66727, 4)\n",
      "(98159, 4)\n",
      "(126813, 4)\n"
     ]
    }
   ],
   "source": [
    "events_first25p = events_info.loc[events_info['days_since_2000'] <= event_stats[4]]\n",
    "events_first50p = events_info.loc[events_info['days_since_2000'] <= event_stats[5]]\n",
    "events_first75p = events_info.loc[events_info['days_since_2000'] <= event_stats[6]]\n",
    "\n",
    "raw_relations_25 = raw_relations[raw_relations['event_id'].isin(events_first25p['event_id'])]\n",
    "raw_relations_50 = raw_relations[raw_relations['event_id'].isin(events_first50p['event_id'])]\n",
    "raw_relations_75 = raw_relations[raw_relations['event_id'].isin(events_first75p['event_id'])]\n",
    "\n",
    "# \n",
    "print(np.shape(raw_relations_25))\n",
    "print(np.shape(raw_relations_50))\n",
    "print(np.shape(raw_relations_75))\n",
    "print(np.shape(raw_relations))\n"
   ]
  },
  {
   "cell_type": "markdown",
   "metadata": {},
   "source": [
    "### Problem 1"
   ]
  },
  {
   "cell_type": "markdown",
   "metadata": {},
   "source": [
    "#### Build weighted bipartite network representing member-to-group relationship (members and groups are nodes):"
   ]
  },
  {
   "cell_type": "markdown",
   "metadata": {},
   "source": [
    "Determine number of rows that contain identical member and group numbers, and use this count as weight for network:"
   ]
  },
  {
   "cell_type": "code",
   "execution_count": 13,
   "metadata": {},
   "outputs": [],
   "source": [
    "cols = ['member_id','group_id']\n",
    "member_groups_25 = raw_relations_25[cols]\n",
    "member_groups_25['Count'] = member_groups_25.groupby(['member_id'])['group_id'].transform('count')\n",
    "member_groups_25 = member_groups_25.drop_duplicates()\n",
    "\n",
    "member_groups_50 = raw_relations_50[cols]\n",
    "member_groups_50['Count'] = member_groups_50.groupby(['member_id'])['group_id'].transform('count')\n",
    "member_groups_50 = member_groups_50.drop_duplicates()\n",
    "\n",
    "member_groups_75 = raw_relations_75[cols]\n",
    "member_groups_75['Count'] = member_groups_75.groupby(['member_id'])['group_id'].transform('count')\n",
    "member_groups_75 = member_groups_75.drop_duplicates()\n",
    "\n",
    "member_groups = raw_relations[cols]\n",
    "member_groups['Count'] = member_groups.groupby(['member_id'])['group_id'].transform('count')\n",
    "member_groups = member_groups.drop_duplicates()\n",
    "\n",
    "# member_groups_25.head(10)\n"
   ]
  },
  {
   "cell_type": "markdown",
   "metadata": {},
   "source": [
    "Create bipartite network using networkx libary:"
   ]
  },
  {
   "cell_type": "code",
   "execution_count": 14,
   "metadata": {},
   "outputs": [],
   "source": [
    "from networkx.algorithms import bipartite\n",
    "import networkx as nx"
   ]
  },
  {
   "cell_type": "code",
   "execution_count": 15,
   "metadata": {},
   "outputs": [
    {
     "name": "stdout",
     "output_type": "stream",
     "text": [
      "16\n",
      "25233\n"
     ]
    }
   ],
   "source": [
    "G_small_for_vis = nx.from_pandas_edgelist(member_groups.iloc[0:10], 'member_id', 'group_id', 'Count') # small graph \n",
    "# for visualization purposes\n",
    "\n",
    "G = nx.from_pandas_edgelist(member_groups, 'member_id', 'group_id', 'Count') \n",
    "G_25 = nx.from_pandas_edgelist(member_groups_25, 'member_id', 'group_id', 'Count') \n",
    "G_50 = nx.from_pandas_edgelist(member_groups_50, 'member_id', 'group_id', 'Count') \n",
    "G_75 = nx.from_pandas_edgelist(member_groups_75, 'member_id', 'group_id', 'Count') \n",
    "\n",
    "#nx.draw(G)\n",
    "print(G_small_for_vis.number_of_nodes())\n",
    "print(G.number_of_nodes())"
   ]
  },
  {
   "cell_type": "markdown",
   "metadata": {},
   "source": [
    "#### Describe Basic Network Statistics:"
   ]
  },
  {
   "cell_type": "code",
   "execution_count": 16,
   "metadata": {},
   "outputs": [
    {
     "name": "stdout",
     "output_type": "stream",
     "text": [
      "Name: \n",
      "Type: Graph\n",
      "Number of nodes: 25233\n",
      "Number of edges: 45583\n",
      "Average degree:   3.6130\n"
     ]
    }
   ],
   "source": [
    "\n",
    "print(nx.info(G))\n",
    "# M = bipartite.biadjacency_matrix(G, row_order = list(dict.fromkeys(member_groups['group_id'])),\n",
    "#                                     column_order = list(dict.fromkeys(member_groups['member_id'])),\n",
    "#                                     weight = 'Count')\n",
    "\n",
    "#print(nx.info(G_25))\n",
    "#print(nx.info(G_50))\n",
    "#print(nx.info(G_75))\n"
   ]
  },
  {
   "cell_type": "code",
   "execution_count": 17,
   "metadata": {},
   "outputs": [
    {
     "name": "stdout",
     "output_type": "stream",
     "text": [
      "Number of Unique Members: 24631\n",
      "Number of Unique Groups: 602\n"
     ]
    }
   ],
   "source": [
    "print('Number of Unique Members: %d' % len(np.unique(raw_relations['member_id'])))\n",
    "print('Number of Unique Groups: %d' % len(np.unique(raw_relations['group_id'])))\n"
   ]
  },
  {
   "cell_type": "markdown",
   "metadata": {},
   "source": [
    "Display a small part of the graph:"
   ]
  },
  {
   "cell_type": "code",
   "execution_count": 19,
   "metadata": {},
   "outputs": [
    {
     "data": {
      "image/png": "[encoded data removed]",
      "text/plain": [
       "<Figure size 432x288 with 1 Axes>"
      ]
     },
     "metadata": {},
     "output_type": "display_data"
    }
   ],
   "source": [
    "if (G.number_of_nodes() < 10):\n",
    "    pos = {node:[0, i] for i,node in enumerate(member_groups_25['member_id'])}\n",
    "    pos.update({node:[1, i] for i,node in enumerate(member_groups_25['group_id'])})\n",
    "    lab = {node:[0, i] for i,node in enumerate(member_groups_25['Count'])}\n",
    "\n",
    "    nx.draw(G, pos, with_labels=False)\n",
    "    for p in pos:  # raise text positions\n",
    "        pos[p][1] += -0.2\n",
    "    nx.draw_networkx_labels(G, pos)\n",
    "    plt.tight_layout()\n",
    "    plt.show()\n",
    "else:\n",
    "    pos = {node:[0, i] for i,node in enumerate(member_groups['member_id'].iloc[0:10])}\n",
    "    pos.update({node:[1, i] for i,node in enumerate(member_groups['group_id'].iloc[0:10])})\n",
    "\n",
    "    nx.draw(G_small_for_vis, pos, with_labels=False)\n",
    "    for p in pos:  # raise text positions\n",
    "        pos[p][1] += -0.2\n",
    "    nx.draw_networkx_labels(G_small_for_vis, pos)\n",
    "    plt.tight_layout()\n",
    "    plt.show()\n"
   ]
  },
  {
   "cell_type": "code",
   "execution_count": 20,
   "metadata": {},
   "outputs": [],
   "source": [
    "number_of_groups = []\n",
    "for i in member_groups['member_id']:\n",
    "    number_of_groups.append(G.degree(i))"
   ]
  },
  {
   "cell_type": "markdown",
   "metadata": {},
   "source": [
    "The following plot describes how many groups each member is part of:"
   ]
  },
  {
   "cell_type": "code",
   "execution_count": 21,
   "metadata": {},
   "outputs": [
    {
     "data": {
      "image/png": "[encoded data removed]",
      "text/plain": [
       "<Figure size 432x288 with 1 Axes>"
      ]
     },
     "metadata": {
      "needs_background": "light"
     },
     "output_type": "display_data"
    }
   ],
   "source": [
    "plt.hist(number_of_groups, bins = 50)\n",
    "plt.ylabel('Number of Members')\n",
    "plt.xlabel('Number of Groups per Member')\n",
    "plt.grid()"
   ]
  },
  {
   "cell_type": "code",
   "execution_count": 22,
   "metadata": {},
   "outputs": [],
   "source": [
    "number_of_members = []\n",
    "for i in member_groups['group_id']:\n",
    "    number_of_members.append(G.degree(i))"
   ]
  },
  {
   "cell_type": "markdown",
   "metadata": {},
   "source": [
    "The following plot describes how many members each group has:"
   ]
  },
  {
   "cell_type": "code",
   "execution_count": 23,
   "metadata": {},
   "outputs": [
    {
     "data": {
      "image/png": "[encoded data removed]",
      "text/plain": [
       "<Figure size 432x288 with 1 Axes>"
      ]
     },
     "metadata": {
      "needs_background": "light"
     },
     "output_type": "display_data"
    }
   ],
   "source": [
    "plt.hist(number_of_members, bins = 50)\n",
    "plt.xlabel('Number of Members In Group')\n",
    "plt.ylabel('Number of Groups')\n",
    "plt.grid()"
   ]
  },
  {
   "cell_type": "markdown",
   "metadata": {},
   "source": [
    "From these basic statistics and plots, we can conclude that there are many more members than groups. This is expected, as most groups will have many members. "
   ]
  },
  {
   "cell_type": "markdown",
   "metadata": {},
   "source": [
    "#### Build network representing member-to-member info (members are nodes):"
   ]
  },
  {
   "cell_type": "code",
   "execution_count": 24,
   "metadata": {},
   "outputs": [
    {
     "data": {
      "text/html": [
       "<div>\n",
       "<style scoped>\n",
       "    .dataframe tbody tr th:only-of-type {\n",
       "        vertical-align: middle;\n",
       "    }\n",
       "\n",
       "    .dataframe tbody tr th {\n",
       "        vertical-align: top;\n",
       "    }\n",
       "\n",
       "    .dataframe thead th {\n",
       "        text-align: right;\n",
       "    }\n",
       "</style>\n",
       "<table border=\"1\" class=\"dataframe\">\n",
       "  <thead>\n",
       "    <tr style=\"text-align: right;\">\n",
       "      <th></th>\n",
       "      <th>Unnamed: 0</th>\n",
       "      <th>event_id</th>\n",
       "      <th>member_id</th>\n",
       "      <th>group_id</th>\n",
       "    </tr>\n",
       "  </thead>\n",
       "  <tbody>\n",
       "    <tr>\n",
       "      <th>0</th>\n",
       "      <td>0</td>\n",
       "      <td>243930425</td>\n",
       "      <td>6770985</td>\n",
       "      <td>26140018</td>\n",
       "    </tr>\n",
       "    <tr>\n",
       "      <th>1</th>\n",
       "      <td>1</td>\n",
       "      <td>244208851</td>\n",
       "      <td>234724627</td>\n",
       "      <td>25604533</td>\n",
       "    </tr>\n",
       "    <tr>\n",
       "      <th>2</th>\n",
       "      <td>2</td>\n",
       "      <td>pxlktnywnbfb</td>\n",
       "      <td>199563568</td>\n",
       "      <td>25973656</td>\n",
       "    </tr>\n",
       "    <tr>\n",
       "      <th>3</th>\n",
       "      <td>3</td>\n",
       "      <td>pxlktnywnbfb</td>\n",
       "      <td>208888939</td>\n",
       "      <td>25973656</td>\n",
       "    </tr>\n",
       "    <tr>\n",
       "      <th>4</th>\n",
       "      <td>4</td>\n",
       "      <td>244444551</td>\n",
       "      <td>1720391</td>\n",
       "      <td>18571126</td>\n",
       "    </tr>\n",
       "  </tbody>\n",
       "</table>\n",
       "</div>"
      ],
      "text/plain": [
       "   Unnamed: 0      event_id  member_id  group_id\n",
       "0           0     243930425    6770985  26140018\n",
       "1           1     244208851  234724627  25604533\n",
       "2           2  pxlktnywnbfb  199563568  25973656\n",
       "3           3  pxlktnywnbfb  208888939  25973656\n",
       "4           4     244444551    1720391  18571126"
      ]
     },
     "execution_count": 24,
     "metadata": {},
     "output_type": "execute_result"
    }
   ],
   "source": [
    "raw_relations.head()"
   ]
  },
  {
   "cell_type": "code",
   "execution_count": 25,
   "metadata": {},
   "outputs": [],
   "source": [
    "# creates table with two member columns, where a row represents two members in same group\n",
    "def get_mem_to_mem(raw_relations,cols): \n",
    "    gm = raw_relations[cols]\n",
    "    gm = gm.join(gm.set_index('group_id'), on='group_id', rsuffix='_other').reset_index(drop=True)\n",
    "    gm = gm[gm['member_id'] != gm['member_id_other']]\n",
    "    gm = gm.drop_duplicates()\n",
    "\n",
    "    gm['Count'] = gm.groupby(['member_id', 'member_id_other'])['group_id'].transform('count')\n",
    "    gm = gm.drop_duplicates()\n",
    "    return gm\n"
   ]
  },
  {
   "cell_type": "markdown",
   "metadata": {},
   "source": [
    "The following dataframes represent member connections. Each row contains two member ids and the group id that they both attended"
   ]
  },
  {
   "cell_type": "code",
   "execution_count": 26,
   "metadata": {},
   "outputs": [],
   "source": [
    "gm = get_mem_to_mem(raw_relations,cols)\n",
    "gm_25 = get_mem_to_mem(raw_relations_25,cols)\n",
    "gm_50 = get_mem_to_mem(raw_relations_50,cols)\n",
    "gm_75 = get_mem_to_mem(raw_relations_75,cols)"
   ]
  },
  {
   "cell_type": "code",
   "execution_count": 27,
   "metadata": {},
   "outputs": [],
   "source": [
    "G2_small_for_vis = nx.from_pandas_edgelist(gm.iloc[0:10], 'member_id','member_id_other', 'Count')\n",
    "G2 = nx.from_pandas_edgelist(gm, 'member_id','member_id_other', 'Count') # count values used as weights\n",
    "G2_25 = nx.from_pandas_edgelist(gm_25, 'member_id','member_id_other', 'Count')\n",
    "G2_50 = nx.from_pandas_edgelist(gm_50, 'member_id','member_id_other', 'Count')\n",
    "G2_75 = nx.from_pandas_edgelist(gm_75, 'member_id','member_id_other', 'Count')\n",
    "\n"
   ]
  },
  {
   "cell_type": "code",
   "execution_count": 28,
   "metadata": {},
   "outputs": [
    {
     "name": "stdout",
     "output_type": "stream",
     "text": [
      "Name: \n",
      "Type: Graph\n",
      "Number of nodes: 24612\n",
      "Number of edges: 6204861\n",
      "Average degree: 504.2143\n"
     ]
    }
   ],
   "source": [
    "print(nx.info(G2))\n",
    "# print(nx.info(G2_25))\n"
   ]
  },
  {
   "cell_type": "markdown",
   "metadata": {},
   "source": [
    "Display a graph of a small number of the connections (does not represent actual graph as many nodes missing, as some connections for visable nodes missing):"
   ]
  },
  {
   "cell_type": "code",
   "execution_count": 30,
   "metadata": {},
   "outputs": [
    {
     "data": {
      "image/png": "[encoded data removed]",
      "text/plain": [
       "<Figure size 432x288 with 1 Axes>"
      ]
     },
     "metadata": {},
     "output_type": "display_data"
    }
   ],
   "source": [
    "if (G2.number_of_nodes() < 10):\n",
    "    pos = {node:[0, i] for i,node in enumerate(gm['member_id'])}\n",
    "\n",
    "    nx.draw(G2, pos, with_labels=False)\n",
    "    for p in pos:  # raise text positions\n",
    "        pos[p][1] += -0.2\n",
    "    nx.draw_networkx_labels(G2, pos)\n",
    "    plt.tight_layout()\n",
    "    plt.show()\n",
    "else:\n",
    "    pos = {node:[0, i] for i,node in enumerate(gm['member_id'].iloc[0:10])}\n",
    "    pos.update({node:[1, i] for i,node in enumerate(gm['member_id_other'].iloc[0:10])})\n",
    "\n",
    "    nx.draw(G2_small_for_vis, pos, with_labels=False)\n",
    "    for p in pos:  # raise text positions\n",
    "        pos[p][1] += -0.2\n",
    "    nx.draw_networkx_labels(G2_small_for_vis, pos)\n",
    "    plt.tight_layout()\n",
    "    plt.show()\n"
   ]
  },
  {
   "cell_type": "markdown",
   "metadata": {},
   "source": [
    "From this member-to-member network we can conclude that the average member is well connected to other members as the average degree is over 500. However, some members are much more connected than others."
   ]
  },
  {
   "cell_type": "markdown",
   "metadata": {},
   "source": [
    "#### Other potential networks:\n",
    "Could do a weighted network with groups as nodes. Each weigh would be the number of mutual members. The motivation is to find groups that are similar to each other. From here, we could recommend new groups to members or be better able to predict when a member will join a group."
   ]
  },
  {
   "cell_type": "markdown",
   "metadata": {},
   "source": [
    "### Problem 2"
   ]
  },
  {
   "cell_type": "markdown",
   "metadata": {},
   "source": [
    "#### Analysing the Group Member Network"
   ]
  },
  {
   "cell_type": "markdown",
   "metadata": {},
   "source": [
    "#### Normalized degree centrality:"
   ]
  },
  {
   "cell_type": "code",
   "execution_count": 31,
   "metadata": {},
   "outputs": [],
   "source": [
    "deg_cent = nx.degree_centrality(G2)\n",
    "deg_cent_25 = nx.degree_centrality(G2_25)\n",
    "deg_cent_50 = nx.degree_centrality(G2_50)\n",
    "deg_cent_75 = nx.degree_centrality(G2_75)"
   ]
  },
  {
   "cell_type": "markdown",
   "metadata": {},
   "source": [
    "The networkx centrality function returns values in odd (at least odd to me) format. So below is adding centrality and corresponding member number to array so that the top five can be displayed:"
   ]
  },
  {
   "cell_type": "code",
   "execution_count": 32,
   "metadata": {},
   "outputs": [],
   "source": [
    "dc = []\n",
    "dc_mem = []\n",
    "count = 1\n",
    "L = len(members_info['member_id'])\n",
    "for i in members_info['member_id']:\n",
    "    if (count+1 % 5000 == 0):\n",
    "        print('%d of %d' % (count,L))\n",
    "    count = count + 1\n",
    "    if (len(gm.loc[gm['member_id'] == i]) > 0):\n",
    "        dc_mem.append(i)\n",
    "        dc.append(deg_cent[i])"
   ]
  },
  {
   "cell_type": "code",
   "execution_count": 33,
   "metadata": {},
   "outputs": [],
   "source": [
    "sort_idx = np.argsort(dc)\n",
    "dc_sorted = np.sort(dc)\n",
    "dc_mem_arr = np.array(dc_mem)\n",
    "dc_mem_sorted = dc_mem_arr[sort_idx]\n",
    "norm_deg_centrality = pd.DataFrame()\n",
    "norm_deg_centrality['member_id'] = dc_mem_sorted\n",
    "norm_deg_centrality['normalized deg. centrality'] = dc_sorted\n"
   ]
  },
  {
   "cell_type": "markdown",
   "metadata": {},
   "source": [
    "Top five members in graph ranked by degree centrality (bottom member has highest centrality):"
   ]
  },
  {
   "cell_type": "code",
   "execution_count": 34,
   "metadata": {},
   "outputs": [
    {
     "data": {
      "text/html": [
       "<div>\n",
       "<style scoped>\n",
       "    .dataframe tbody tr th:only-of-type {\n",
       "        vertical-align: middle;\n",
       "    }\n",
       "\n",
       "    .dataframe tbody tr th {\n",
       "        vertical-align: top;\n",
       "    }\n",
       "\n",
       "    .dataframe thead th {\n",
       "        text-align: right;\n",
       "    }\n",
       "</style>\n",
       "<table border=\"1\" class=\"dataframe\">\n",
       "  <thead>\n",
       "    <tr style=\"text-align: right;\">\n",
       "      <th></th>\n",
       "      <th>member_id</th>\n",
       "      <th>normalized deg. centrality</th>\n",
       "    </tr>\n",
       "  </thead>\n",
       "  <tbody>\n",
       "    <tr>\n",
       "      <th>24567</th>\n",
       "      <td>175300482</td>\n",
       "      <td>0.247207</td>\n",
       "    </tr>\n",
       "    <tr>\n",
       "      <th>24568</th>\n",
       "      <td>3380276</td>\n",
       "      <td>0.260696</td>\n",
       "    </tr>\n",
       "    <tr>\n",
       "      <th>24569</th>\n",
       "      <td>46486792</td>\n",
       "      <td>0.278046</td>\n",
       "    </tr>\n",
       "    <tr>\n",
       "      <th>24570</th>\n",
       "      <td>221191725</td>\n",
       "      <td>0.295559</td>\n",
       "    </tr>\n",
       "    <tr>\n",
       "      <th>24571</th>\n",
       "      <td>8539046</td>\n",
       "      <td>0.344277</td>\n",
       "    </tr>\n",
       "  </tbody>\n",
       "</table>\n",
       "</div>"
      ],
      "text/plain": [
       "       member_id  normalized deg. centrality\n",
       "24567  175300482                    0.247207\n",
       "24568    3380276                    0.260696\n",
       "24569   46486792                    0.278046\n",
       "24570  221191725                    0.295559\n",
       "24571    8539046                    0.344277"
      ]
     },
     "execution_count": 34,
     "metadata": {},
     "output_type": "execute_result"
    }
   ],
   "source": [
    "norm_deg_centrality.tail(5)"
   ]
  },
  {
   "cell_type": "markdown",
   "metadata": {},
   "source": [
    "#### Katz Centrality:"
   ]
  },
  {
   "cell_type": "code",
   "execution_count": 107,
   "metadata": {},
   "outputs": [],
   "source": [
    "katz_cent_25 = nx.katz_centrality(G2_25, alpha=0.001, beta=1.0, max_iter= 20, tol=1e-02, nstart=None, normalized=True, weight='Count')\n",
    "katz_cent_75 = nx.katz_centrality(G2_75, alpha=0.001, beta=1.0, max_iter= 100, tol=5e-01, nstart=None, normalized=True, weight='Count')\n",
    "katz_cent = nx.katz_centrality(G2, alpha=0.001, beta=1.00, max_iter= 100, tol=9e-1, nstart=None, normalized=True, weight='Count')"
   ]
  },
  {
   "cell_type": "code",
   "execution_count": 111,
   "metadata": {},
   "outputs": [
    {
     "name": "stdout",
     "output_type": "stream",
     "text": [
      "3% Complete\n",
      "7% Complete\n",
      "11% Complete\n",
      "15% Complete\n",
      "19% Complete\n",
      "23% Complete\n",
      "27% Complete\n",
      "31% Complete\n",
      "35% Complete\n",
      "39% Complete\n",
      "43% Complete\n",
      "47% Complete\n",
      "51% Complete\n",
      "55% Complete\n",
      "59% Complete\n",
      "63% Complete\n",
      "67% Complete\n",
      "71% Complete\n",
      "75% Complete\n",
      "79% Complete\n",
      "83% Complete\n",
      "87% Complete\n",
      "91% Complete\n",
      "95% Complete\n",
      "99% Complete\n"
     ]
    }
   ],
   "source": [
    "kc = []\n",
    "kc_mem = []\n",
    "count = 1\n",
    "L = len(members_info['member_id'])\n",
    "for i in members_info['member_id']:\n",
    "    if count % int((L/25)) == 0:\n",
    "        print('%d%% Complete' % (100*count/L))\n",
    "    count = count + 1\n",
    "    if (len(gm.loc[gm['member_id'] == i]) > 0):\n",
    "        kc_mem.append(i)\n",
    "        kc.append(katz_cent[i])"
   ]
  },
  {
   "cell_type": "code",
   "execution_count": 112,
   "metadata": {},
   "outputs": [],
   "source": [
    "sort_idx = np.argsort(kc)\n",
    "kc_sorted = np.sort(kc)\n",
    "kc_mem_arr = np.array(kc_mem)\n",
    "kc_mem_sorted = kc_mem_arr[sort_idx]\n",
    "katz_centrality = pd.DataFrame()\n",
    "katz_centrality['member_id'] = kc_mem_sorted\n",
    "katz_centrality['katz centrality'] = kc_sorted\n"
   ]
  },
  {
   "cell_type": "markdown",
   "metadata": {},
   "source": [
    "Top five members in graph ranked by katz centrality (bottom member has highest centrality):"
   ]
  },
  {
   "cell_type": "code",
   "execution_count": 113,
   "metadata": {},
   "outputs": [
    {
     "data": {
      "text/html": [
       "<div>\n",
       "<style scoped>\n",
       "    .dataframe tbody tr th:only-of-type {\n",
       "        vertical-align: middle;\n",
       "    }\n",
       "\n",
       "    .dataframe tbody tr th {\n",
       "        vertical-align: top;\n",
       "    }\n",
       "\n",
       "    .dataframe thead th {\n",
       "        text-align: right;\n",
       "    }\n",
       "</style>\n",
       "<table border=\"1\" class=\"dataframe\">\n",
       "  <thead>\n",
       "    <tr style=\"text-align: right;\">\n",
       "      <th></th>\n",
       "      <th>member_id</th>\n",
       "      <th>katz centrality</th>\n",
       "    </tr>\n",
       "  </thead>\n",
       "  <tbody>\n",
       "    <tr>\n",
       "      <th>24567</th>\n",
       "      <td>3380276</td>\n",
       "      <td>0.036866</td>\n",
       "    </tr>\n",
       "    <tr>\n",
       "      <th>24568</th>\n",
       "      <td>5900662</td>\n",
       "      <td>0.037687</td>\n",
       "    </tr>\n",
       "    <tr>\n",
       "      <th>24569</th>\n",
       "      <td>46486792</td>\n",
       "      <td>0.039703</td>\n",
       "    </tr>\n",
       "    <tr>\n",
       "      <th>24570</th>\n",
       "      <td>221191725</td>\n",
       "      <td>0.040112</td>\n",
       "    </tr>\n",
       "    <tr>\n",
       "      <th>24571</th>\n",
       "      <td>8539046</td>\n",
       "      <td>0.046603</td>\n",
       "    </tr>\n",
       "  </tbody>\n",
       "</table>\n",
       "</div>"
      ],
      "text/plain": [
       "       member_id  katz centrality\n",
       "24567    3380276         0.036866\n",
       "24568    5900662         0.037687\n",
       "24569   46486792         0.039703\n",
       "24570  221191725         0.040112\n",
       "24571    8539046         0.046603"
      ]
     },
     "execution_count": 113,
     "metadata": {},
     "output_type": "execute_result"
    }
   ],
   "source": [
    "katz_centrality.tail(5)"
   ]
  },
  {
   "cell_type": "markdown",
   "metadata": {},
   "source": [
    "#### Normalized Betweenness Centrality:"
   ]
  },
  {
   "cell_type": "code",
   "execution_count": 118,
   "metadata": {},
   "outputs": [],
   "source": [
    "node_to_consider = 100  # node samples to estimate between, used to reduce computation time\n",
    "\n",
    "betwn_cent = nx.betweenness_centrality(G2, endpoints = False,\n",
    "                                        normalized = True,\n",
    "                                        k = node_to_consider)  #approximation\n",
    "betwn_cent_75 = nx.betweenness_centrality(G2_75, endpoints = False,\n",
    "                                        normalized = True,\n",
    "                                        k = node_to_consider)  #approximation\n",
    "betwn_cent_25 = nx.betweenness_centrality(G2_25, endpoints = False,\n",
    "                                        normalized = True,\n",
    "                                        k = node_to_consider)  #approximation"
   ]
  },
  {
   "cell_type": "code",
   "execution_count": 119,
   "metadata": {},
   "outputs": [
    {
     "name": "stdout",
     "output_type": "stream",
     "text": [
      "9% Complete\n",
      "19% Complete\n",
      "29% Complete\n",
      "39% Complete\n",
      "49% Complete\n",
      "59% Complete\n",
      "69% Complete\n",
      "79% Complete\n",
      "89% Complete\n",
      "99% Complete\n"
     ]
    }
   ],
   "source": [
    "bc = []\n",
    "bc_mem = []\n",
    "count = 1\n",
    "L = len(members_info['member_id'])\n",
    "for i in members_info['member_id']:\n",
    "    if count % int((L/10)) == 0:\n",
    "        print('%d%% Complete' % (100*count/L))\n",
    "    count = count + 1\n",
    "    if (len(gm.loc[gm['member_id'] == i]) > 0):\n",
    "        bc_mem.append(i)\n",
    "        bc.append(betwn_cent[i])"
   ]
  },
  {
   "cell_type": "code",
   "execution_count": 120,
   "metadata": {},
   "outputs": [],
   "source": [
    "sort_idx = np.argsort(bc)\n",
    "bc_sorted = np.sort(bc)\n",
    "bc_mem_arr = np.array(bc_mem)\n",
    "bc_mem_sorted = bc_mem_arr[sort_idx]\n",
    "norm_betwn_centrality = pd.DataFrame()\n",
    "norm_betwn_centrality['member_id'] = bc_mem_sorted\n",
    "norm_betwn_centrality['normalized betweenness centrality'] = bc_sorted"
   ]
  },
  {
   "cell_type": "markdown",
   "metadata": {},
   "source": [
    "Top five members in graph ranked by betweenness centrality:"
   ]
  },
  {
   "cell_type": "code",
   "execution_count": 121,
   "metadata": {},
   "outputs": [
    {
     "data": {
      "text/html": [
       "<div>\n",
       "<style scoped>\n",
       "    .dataframe tbody tr th:only-of-type {\n",
       "        vertical-align: middle;\n",
       "    }\n",
       "\n",
       "    .dataframe tbody tr th {\n",
       "        vertical-align: top;\n",
       "    }\n",
       "\n",
       "    .dataframe thead th {\n",
       "        text-align: right;\n",
       "    }\n",
       "</style>\n",
       "<table border=\"1\" class=\"dataframe\">\n",
       "  <thead>\n",
       "    <tr style=\"text-align: right;\">\n",
       "      <th></th>\n",
       "      <th>member_id</th>\n",
       "      <th>normalized betweenness centrality</th>\n",
       "    </tr>\n",
       "  </thead>\n",
       "  <tbody>\n",
       "    <tr>\n",
       "      <th>24567</th>\n",
       "      <td>14044231</td>\n",
       "      <td>0.010272</td>\n",
       "    </tr>\n",
       "    <tr>\n",
       "      <th>24568</th>\n",
       "      <td>221191725</td>\n",
       "      <td>0.011089</td>\n",
       "    </tr>\n",
       "    <tr>\n",
       "      <th>24569</th>\n",
       "      <td>175300482</td>\n",
       "      <td>0.011411</td>\n",
       "    </tr>\n",
       "    <tr>\n",
       "      <th>24570</th>\n",
       "      <td>144256692</td>\n",
       "      <td>0.012344</td>\n",
       "    </tr>\n",
       "    <tr>\n",
       "      <th>24571</th>\n",
       "      <td>8539046</td>\n",
       "      <td>0.031486</td>\n",
       "    </tr>\n",
       "  </tbody>\n",
       "</table>\n",
       "</div>"
      ],
      "text/plain": [
       "       member_id  normalized betweenness centrality\n",
       "24567   14044231                           0.010272\n",
       "24568  221191725                           0.011089\n",
       "24569  175300482                           0.011411\n",
       "24570  144256692                           0.012344\n",
       "24571    8539046                           0.031486"
      ]
     },
     "execution_count": 121,
     "metadata": {},
     "output_type": "execute_result"
    }
   ],
   "source": [
    "norm_betwn_centrality.tail(5)"
   ]
  },
  {
   "cell_type": "markdown",
   "metadata": {},
   "source": [
    "#### Eigenvector Centrality:"
   ]
  },
  {
   "cell_type": "code",
   "execution_count": 127,
   "metadata": {},
   "outputs": [],
   "source": [
    "eigenval_cent = nx.eigenvector_centrality(G2, max_iter=10, tol=1e-04, nstart=None, weight='Count')\n",
    "eigenval_cent_75 = nx.eigenvector_centrality(G2_75, max_iter=10, tol=1e-04, nstart=None, weight='Count')\n",
    "eigenval_cent_25 = nx.eigenvector_centrality(G2_25, max_iter=10, tol=1e-04, nstart=None, weight='Count')"
   ]
  },
  {
   "cell_type": "code",
   "execution_count": 128,
   "metadata": {},
   "outputs": [
    {
     "name": "stdout",
     "output_type": "stream",
     "text": [
      "9% Complete\n",
      "19% Complete\n",
      "29% Complete\n",
      "39% Complete\n",
      "49% Complete\n",
      "59% Complete\n",
      "69% Complete\n",
      "79% Complete\n",
      "89% Complete\n",
      "99% Complete\n"
     ]
    }
   ],
   "source": [
    "ec = []\n",
    "ec_mem = []\n",
    "count = 1\n",
    "L = len(members_info['member_id'])\n",
    "for i in members_info['member_id']:\n",
    "    if count % int((L/10)) == 0:\n",
    "        print('%d%% Complete' % (100*count/L))\n",
    "    count = count + 1\n",
    "    if (len(gm.loc[gm['member_id'] == i]) > 0):\n",
    "        ec_mem.append(i)\n",
    "        ec.append(eigenval_cent[i])"
   ]
  },
  {
   "cell_type": "code",
   "execution_count": 129,
   "metadata": {},
   "outputs": [],
   "source": [
    "sort_idx = np.argsort(ec)\n",
    "ec_sorted = np.sort(ec)\n",
    "ec_mem_arr = np.array(ec_mem)\n",
    "ec_mem_sorted = bc_mem_arr[sort_idx]\n",
    "norm_eig_centrality = pd.DataFrame()\n",
    "norm_eig_centrality['member_id'] = ec_mem_sorted\n",
    "norm_eig_centrality['normalized eigenvector centrality'] = ec_sorted"
   ]
  },
  {
   "cell_type": "markdown",
   "metadata": {},
   "source": [
    "Top five members in graph ranked by eigenvector centrality:"
   ]
  },
  {
   "cell_type": "code",
   "execution_count": 130,
   "metadata": {},
   "outputs": [
    {
     "data": {
      "text/html": [
       "<div>\n",
       "<style scoped>\n",
       "    .dataframe tbody tr th:only-of-type {\n",
       "        vertical-align: middle;\n",
       "    }\n",
       "\n",
       "    .dataframe tbody tr th {\n",
       "        vertical-align: top;\n",
       "    }\n",
       "\n",
       "    .dataframe thead th {\n",
       "        text-align: right;\n",
       "    }\n",
       "</style>\n",
       "<table border=\"1\" class=\"dataframe\">\n",
       "  <thead>\n",
       "    <tr style=\"text-align: right;\">\n",
       "      <th></th>\n",
       "      <th>member_id</th>\n",
       "      <th>normalized eigenvector centrality</th>\n",
       "    </tr>\n",
       "  </thead>\n",
       "  <tbody>\n",
       "    <tr>\n",
       "      <th>24567</th>\n",
       "      <td>71851852</td>\n",
       "      <td>0.066570</td>\n",
       "    </tr>\n",
       "    <tr>\n",
       "      <th>24568</th>\n",
       "      <td>175300482</td>\n",
       "      <td>0.067629</td>\n",
       "    </tr>\n",
       "    <tr>\n",
       "      <th>24569</th>\n",
       "      <td>60195472</td>\n",
       "      <td>0.070314</td>\n",
       "    </tr>\n",
       "    <tr>\n",
       "      <th>24570</th>\n",
       "      <td>203244569</td>\n",
       "      <td>0.072224</td>\n",
       "    </tr>\n",
       "    <tr>\n",
       "      <th>24571</th>\n",
       "      <td>5900662</td>\n",
       "      <td>0.075165</td>\n",
       "    </tr>\n",
       "  </tbody>\n",
       "</table>\n",
       "</div>"
      ],
      "text/plain": [
       "       member_id  normalized eigenvector centrality\n",
       "24567   71851852                           0.066570\n",
       "24568  175300482                           0.067629\n",
       "24569   60195472                           0.070314\n",
       "24570  203244569                           0.072224\n",
       "24571    5900662                           0.075165"
      ]
     },
     "execution_count": 130,
     "metadata": {},
     "output_type": "execute_result"
    }
   ],
   "source": [
    "norm_eig_centrality.tail(5)"
   ]
  },
  {
   "cell_type": "code",
   "execution_count": 288,
   "metadata": {},
   "outputs": [
    {
     "name": "stdout",
     "output_type": "stream",
     "text": [
      "8473\n"
     ]
    },
    {
     "data": {
      "text/html": [
       "<div>\n",
       "<style scoped>\n",
       "    .dataframe tbody tr th:only-of-type {\n",
       "        vertical-align: middle;\n",
       "    }\n",
       "\n",
       "    .dataframe tbody tr th {\n",
       "        vertical-align: top;\n",
       "    }\n",
       "\n",
       "    .dataframe thead th {\n",
       "        text-align: right;\n",
       "    }\n",
       "</style>\n",
       "<table border=\"1\" class=\"dataframe\">\n",
       "  <thead>\n",
       "    <tr style=\"text-align: right;\">\n",
       "      <th></th>\n",
       "      <th>member_id</th>\n",
       "      <th>name</th>\n",
       "      <th>hometown</th>\n",
       "      <th>city</th>\n",
       "      <th>state</th>\n",
       "      <th>lat</th>\n",
       "      <th>lon</th>\n",
       "      <th>key</th>\n",
       "    </tr>\n",
       "  </thead>\n",
       "  <tbody>\n",
       "    <tr>\n",
       "      <th>1157</th>\n",
       "      <td>8539046</td>\n",
       "      <td>Shalini</td>\n",
       "      <td>NaN</td>\n",
       "      <td>Nashville</td>\n",
       "      <td>TN</td>\n",
       "      <td>36.13</td>\n",
       "      <td>-86.8</td>\n",
       "      <td>0</td>\n",
       "    </tr>\n",
       "  </tbody>\n",
       "</table>\n",
       "</div>"
      ],
      "text/plain": [
       "      member_id     name hometown       city state    lat   lon  key\n",
       "1157    8539046  Shalini      NaN  Nashville    TN  36.13 -86.8    0"
      ]
     },
     "execution_count": 288,
     "metadata": {},
     "output_type": "execute_result"
    }
   ],
   "source": [
    "print(G2.degree(8539046))\n",
    "members_info.iloc[(np.where(members_info['member_id'] == 8539046)[0])]"
   ]
  },
  {
   "cell_type": "markdown",
   "metadata": {},
   "source": [
    "Based on the resulted for the four different centrality measurements presented above, we can conclude that the important nodes will depend on which centrality measurement we use. Therefore, all four are used as prediction attributes in problem three. \n",
    "\n",
    "Interestingly, member 8539046 (Shalini from Nashville, TN) is ranked as the most important member in 3 out of the 4 rankings. However, Shalini doesnt even rank in the top five for the eigenvector centrality ranking. Shalini's node in the member-to-member network has degree 8473."
   ]
  },
  {
   "cell_type": "markdown",
   "metadata": {},
   "source": [
    "### Problem 3"
   ]
  },
  {
   "cell_type": "markdown",
   "metadata": {},
   "source": [
    "#### Performing Link Prediction on Member-to-Group Network"
   ]
  },
  {
   "cell_type": "markdown",
   "metadata": {},
   "source": [
    "Create a dataframe with all possible group-to-member combinations:"
   ]
  },
  {
   "cell_type": "code",
   "execution_count": 131,
   "metadata": {},
   "outputs": [
    {
     "name": "stdout",
     "output_type": "stream",
     "text": [
      "(602, 8)\n",
      "(600, 8)\n",
      "(361200, 15)\n"
     ]
    }
   ],
   "source": [
    "N = 600   # only use first 600 memebers to reduce computation time\n",
    "gm_all = groups_info\n",
    "print(np.shape(gm_all))\n",
    "print(np.shape(members_info.iloc[:N]))\n",
    "groups_info['key'] = 0\n",
    "members_info['key'] = 0\n",
    "\n",
    "gm_all = groups_info.merge(members_info.iloc[:N], how='outer')\n",
    "\n",
    "print(np.shape(gm_all))\n",
    "\n"
   ]
  },
  {
   "cell_type": "markdown",
   "metadata": {},
   "source": [
    "Next, determine if each group-member combo actually exists at each point in time (super slow due to my insufficient python knowledge):"
   ]
  },
  {
   "cell_type": "code",
   "execution_count": 264,
   "metadata": {},
   "outputs": [
    {
     "name": "stdout",
     "output_type": "stream",
     "text": [
      "361200\n",
      "0.0% Complete\n",
      "1.0% Complete\n",
      "2.0% Complete\n",
      "3.0% Complete\n",
      "4.0% Complete\n",
      "5.0% Complete\n",
      "6.0% Complete\n",
      "7.0% Complete\n",
      "8.0% Complete\n",
      "9.0% Complete\n",
      "10.0% Complete\n",
      "11.0% Complete\n",
      "12.0% Complete\n",
      "13.0% Complete\n",
      "14.0% Complete\n",
      "15.0% Complete\n",
      "16.0% Complete\n",
      "17.0% Complete\n",
      "18.0% Complete\n",
      "19.0% Complete\n",
      "20.0% Complete\n",
      "21.0% Complete\n",
      "22.0% Complete\n",
      "23.0% Complete\n",
      "24.0% Complete\n",
      "25.0% Complete\n",
      "26.0% Complete\n",
      "27.0% Complete\n",
      "28.0% Complete\n",
      "29.0% Complete\n",
      "30.0% Complete\n",
      "31.0% Complete\n",
      "32.0% Complete\n",
      "33.0% Complete\n",
      "34.0% Complete\n",
      "35.0% Complete\n",
      "36.0% Complete\n",
      "37.0% Complete\n",
      "38.0% Complete\n",
      "39.0% Complete\n",
      "40.0% Complete\n",
      "41.0% Complete\n",
      "42.0% Complete\n",
      "43.0% Complete\n",
      "44.0% Complete\n",
      "45.0% Complete\n",
      "46.0% Complete\n",
      "47.0% Complete\n",
      "48.0% Complete\n",
      "49.0% Complete\n",
      "50.0% Complete\n",
      "51.0% Complete\n",
      "52.0% Complete\n",
      "53.0% Complete\n",
      "54.0% Complete\n",
      "55.0% Complete\n",
      "56.0% Complete\n",
      "57.0% Complete\n",
      "58.0% Complete\n",
      "59.0% Complete\n",
      "60.0% Complete\n",
      "61.0% Complete\n",
      "62.0% Complete\n",
      "63.0% Complete\n",
      "64.0% Complete\n",
      "65.0% Complete\n",
      "66.0% Complete\n",
      "67.0% Complete\n",
      "68.0% Complete\n",
      "69.0% Complete\n",
      "70.0% Complete\n",
      "71.0% Complete\n",
      "72.0% Complete\n",
      "73.0% Complete\n",
      "74.0% Complete\n",
      "75.0% Complete\n",
      "76.0% Complete\n",
      "77.0% Complete\n",
      "78.0% Complete\n",
      "79.0% Complete\n",
      "80.0% Complete\n",
      "81.0% Complete\n",
      "82.0% Complete\n",
      "83.0% Complete\n",
      "84.0% Complete\n",
      "85.0% Complete\n",
      "86.0% Complete\n",
      "87.0% Complete\n",
      "88.0% Complete\n",
      "89.0% Complete\n",
      "90.0% Complete\n",
      "91.0% Complete\n",
      "92.0% Complete\n",
      "93.0% Complete\n",
      "94.0% Complete\n",
      "95.0% Complete\n",
      "96.0% Complete\n",
      "97.0% Complete\n",
      "98.0% Complete\n",
      "99.0% Complete\n"
     ]
    }
   ],
   "source": [
    "N_all = len(gm_all)\n",
    "print(N_all)\n",
    "\n",
    "gm_all['is_member_25'] = np.zeros((N_all,1))\n",
    "gm_all['is_member_50'] = np.zeros((N_all,1))\n",
    "gm_all['is_member_75'] = np.zeros((N_all,1))\n",
    "gm_all['is_member_100'] = np.zeros((N_all,1))\n",
    "\n",
    "\n",
    "for i in range(N_all):\n",
    "    if i % (N_all/100) == 0:\n",
    "        print('%.1f%% Complete' % (100*i/N_all))\n",
    "    grp = gm_all['group_id'].iloc[i]\n",
    "    memb = gm_all['member_id'].iloc[i]\n",
    "    if G_25.has_edge(grp,memb):\n",
    "        m_25 = 1\n",
    "        m_50 = 1\n",
    "        m_75 = 1\n",
    "        m_100 = 1\n",
    "    elif G_50.has_edge(grp,memb):\n",
    "        m_25 = 0\n",
    "        m_50 = 1\n",
    "        m_75 = 1\n",
    "        m_100 = 1\n",
    "    elif G_75.has_edge(grp,memb):\n",
    "        m_25 = 0\n",
    "        m_50 = 0\n",
    "        m_75 = 1\n",
    "        m_100 = 1\n",
    "    elif G.has_edge(grp,memb):\n",
    "        m_25 = 0\n",
    "        m_50 = 0\n",
    "        m_75 = 0\n",
    "        m_100 = 1\n",
    "    else:\n",
    "        m_25 = 0\n",
    "        m_50 = 0\n",
    "        m_75 = 0\n",
    "        m_100 = 0\n",
    "\n",
    "    cols_set = ['is_member_25','is_member_50','is_member_75','is_member_100']   \n",
    "    vals_set = [m_25, m_50, m_75, m_100]\n",
    "    gm_all.set_value(i, cols_set, vals_set)\n",
    "\n"
   ]
  },
  {
   "cell_type": "markdown",
   "metadata": {},
   "source": [
    "Below are function to compute the number of common neighbours and jaccards coefficient\n",
    "\n",
    " * Common neighbor is defined as neighbours two steps away from the member and one step away from the group, so you are comparing on same side of bipartite graph (based on paper by Chinta et al http://snap.stanford.edu/class/cs224w-2014/projects2014/cs224w-82-final.pdf)\n"
   ]
  },
  {
   "cell_type": "code",
   "execution_count": 266,
   "metadata": {},
   "outputs": [],
   "source": [
    "def get_cn_and_jaccards(G, member, group):\n",
    "    cn = -1\n",
    "    j = -1\n",
    "    if G.has_node(member) & G.has_node(group):\n",
    "        member_neighbor = sorted(nx.neighbors(G,member))\n",
    "        member_neighbor_2 = []\n",
    "        for x in member_neighbor:\n",
    "            temp = sorted(nx.neighbors(G,x))\n",
    "            for y in temp:\n",
    "                member_neighbor_2.append(y)\n",
    "        group_neighbor = sorted(nx.neighbors(G,group))\n",
    "        common_neighbors = [value for value in member_neighbor_2 if value in group_neighbor]\n",
    "        \n",
    "        for i in common_neighbors:\n",
    "            if (i == member):\n",
    "                cn  = (len(common_neighbors) - 1)\n",
    "            else:\n",
    "                cn = len(common_neighbors)\n",
    "\n",
    "        denom = len(group_neighbor) + len(member_neighbor_2)\n",
    "        if denom == 0:\n",
    "            denom = 1\n",
    "        for i in common_neighbors:\n",
    "            if (i == member):\n",
    "                if len(common_neighbors) == 1:\n",
    "                    j = 0\n",
    "                else:\n",
    "                    j = ((len(common_neighbors) - 1)/(denom-2))\n",
    "            else:\n",
    "                j = (len(common_neighbors)/denom)\n",
    "        return (cn,j)\n",
    "    else: \n",
    "        return (-1,-1)"
   ]
  },
  {
   "cell_type": "markdown",
   "metadata": {},
   "source": [
    "#### Train Model Using Common Neighbours and Jacccards Coefficient:"
   ]
  },
  {
   "cell_type": "markdown",
   "metadata": {},
   "source": [
    "A big challenge for these models is the imbalance between number of links and non-links. To mitigate this, I will randomly remove most of the non-links from the dataframe so that there is a more equal balance.\n",
    "\n",
    " * In cell below, I find the indicies of the rows with group-member links at time T4 (the complete graph) then randomly select an a multiple number (2 x number of links) of other rows."
   ]
  },
  {
   "cell_type": "code",
   "execution_count": 267,
   "metadata": {},
   "outputs": [
    {
     "name": "stdout",
     "output_type": "stream",
     "text": [
      "Number of links at T4: 1000, number of rows used for model:3000\n"
     ]
    }
   ],
   "source": [
    "idx = np.where(gm_all['is_member_100'] == 1)[0]\n",
    "N_ones = 1000\n",
    "if len(idx > N_ones):\n",
    "    rand_i = np.random.randint(len(idx), size=N_ones)\n",
    "    idx = [idx[rand_i]][0]\n",
    "N = int(2*len(idx))\n",
    "print('Number of links at T4: %d, number of rows used for model:%d' % (len(idx),N+len(idx)))\n",
    "idx_for_train = np.random.randint(len(gm_all), size=N)\n",
    "for i in range(len(idx)):\n",
    "    idx_for_train = np.append(idx_for_train,idx[i]) \n"
   ]
  },
  {
   "cell_type": "code",
   "execution_count": 268,
   "metadata": {},
   "outputs": [
    {
     "data": {
      "text/html": [
       "<div>\n",
       "<style scoped>\n",
       "    .dataframe tbody tr th:only-of-type {\n",
       "        vertical-align: middle;\n",
       "    }\n",
       "\n",
       "    .dataframe tbody tr th {\n",
       "        vertical-align: top;\n",
       "    }\n",
       "\n",
       "    .dataframe thead th {\n",
       "        text-align: right;\n",
       "    }\n",
       "</style>\n",
       "<table border=\"1\" class=\"dataframe\">\n",
       "  <thead>\n",
       "    <tr style=\"text-align: right;\">\n",
       "      <th></th>\n",
       "      <th>index</th>\n",
       "      <th>group_id</th>\n",
       "      <th>group_name</th>\n",
       "      <th>num_members</th>\n",
       "      <th>category_id</th>\n",
       "      <th>category_name</th>\n",
       "      <th>organizer_id</th>\n",
       "      <th>group_urlname</th>\n",
       "      <th>key</th>\n",
       "      <th>member_id</th>\n",
       "      <th>name</th>\n",
       "      <th>hometown</th>\n",
       "      <th>city</th>\n",
       "      <th>state</th>\n",
       "      <th>lat</th>\n",
       "      <th>lon</th>\n",
       "      <th>is_member_25</th>\n",
       "      <th>is_member_50</th>\n",
       "      <th>is_member_75</th>\n",
       "      <th>is_member_100</th>\n",
       "    </tr>\n",
       "  </thead>\n",
       "  <tbody>\n",
       "    <tr>\n",
       "      <th>0</th>\n",
       "      <td>230268</td>\n",
       "      <td>25140784</td>\n",
       "      <td>Couples Exploring Nashville</td>\n",
       "      <td>155</td>\n",
       "      <td>31</td>\n",
       "      <td>Socializing</td>\n",
       "      <td>9681725</td>\n",
       "      <td>Couples-Exploring-Nashville</td>\n",
       "      <td>0</td>\n",
       "      <td>4607639</td>\n",
       "      <td>Darcia</td>\n",
       "      <td>Hendersonville</td>\n",
       "      <td>Hendersonville</td>\n",
       "      <td>TN</td>\n",
       "      <td>36.32</td>\n",
       "      <td>-86.61</td>\n",
       "      <td>0.0</td>\n",
       "      <td>0.0</td>\n",
       "      <td>0.0</td>\n",
       "      <td>0.0</td>\n",
       "    </tr>\n",
       "    <tr>\n",
       "      <th>1</th>\n",
       "      <td>232345</td>\n",
       "      <td>18914937</td>\n",
       "      <td>Nashville SaltStack Meetup</td>\n",
       "      <td>26</td>\n",
       "      <td>34</td>\n",
       "      <td>Tech</td>\n",
       "      <td>96591722</td>\n",
       "      <td>Nashville-SaltStack-Users-Group</td>\n",
       "      <td>0</td>\n",
       "      <td>1921733</td>\n",
       "      <td>Sisco</td>\n",
       "      <td>NaN</td>\n",
       "      <td>Nashville</td>\n",
       "      <td>TN</td>\n",
       "      <td>36.11</td>\n",
       "      <td>-86.86</td>\n",
       "      <td>0.0</td>\n",
       "      <td>0.0</td>\n",
       "      <td>0.0</td>\n",
       "      <td>0.0</td>\n",
       "    </tr>\n",
       "    <tr>\n",
       "      <th>2</th>\n",
       "      <td>20004</td>\n",
       "      <td>20807142</td>\n",
       "      <td>Music City Young Professionals</td>\n",
       "      <td>1388</td>\n",
       "      <td>31</td>\n",
       "      <td>Socializing</td>\n",
       "      <td>7377000</td>\n",
       "      <td>MusicCityYP</td>\n",
       "      <td>0</td>\n",
       "      <td>2559067</td>\n",
       "      <td>Jane</td>\n",
       "      <td>Arrington</td>\n",
       "      <td>Arrington</td>\n",
       "      <td>TN</td>\n",
       "      <td>35.86</td>\n",
       "      <td>-86.66</td>\n",
       "      <td>0.0</td>\n",
       "      <td>0.0</td>\n",
       "      <td>0.0</td>\n",
       "      <td>0.0</td>\n",
       "    </tr>\n",
       "    <tr>\n",
       "      <th>3</th>\n",
       "      <td>281910</td>\n",
       "      <td>18286946</td>\n",
       "      <td>Dine and Unwind in East Nashville</td>\n",
       "      <td>2667</td>\n",
       "      <td>10</td>\n",
       "      <td>Food &amp; Drink</td>\n",
       "      <td>173228792</td>\n",
       "      <td>Dine-and-Unwind-in-East-Nashville</td>\n",
       "      <td>0</td>\n",
       "      <td>4955979</td>\n",
       "      <td>Lea</td>\n",
       "      <td>Valdosta, Georgia</td>\n",
       "      <td>Nashville</td>\n",
       "      <td>TN</td>\n",
       "      <td>36.08</td>\n",
       "      <td>-86.72</td>\n",
       "      <td>0.0</td>\n",
       "      <td>0.0</td>\n",
       "      <td>0.0</td>\n",
       "      <td>0.0</td>\n",
       "    </tr>\n",
       "    <tr>\n",
       "      <th>4</th>\n",
       "      <td>158289</td>\n",
       "      <td>11294262</td>\n",
       "      <td>Let's Talk Franklin Toastmasters Club</td>\n",
       "      <td>608</td>\n",
       "      <td>2</td>\n",
       "      <td>Career &amp; Business</td>\n",
       "      <td>12742746</td>\n",
       "      <td>Lets-Talk-Franklin-Toastmasters-Club</td>\n",
       "      <td>0</td>\n",
       "      <td>4780315</td>\n",
       "      <td>catie</td>\n",
       "      <td>Nashville</td>\n",
       "      <td>Nashville</td>\n",
       "      <td>TN</td>\n",
       "      <td>36.08</td>\n",
       "      <td>-86.72</td>\n",
       "      <td>0.0</td>\n",
       "      <td>0.0</td>\n",
       "      <td>0.0</td>\n",
       "      <td>0.0</td>\n",
       "    </tr>\n",
       "  </tbody>\n",
       "</table>\n",
       "</div>"
      ],
      "text/plain": [
       "    index  group_id                             group_name  num_members  \\\n",
       "0  230268  25140784            Couples Exploring Nashville          155   \n",
       "1  232345  18914937             Nashville SaltStack Meetup           26   \n",
       "2   20004  20807142         Music City Young Professionals         1388   \n",
       "3  281910  18286946      Dine and Unwind in East Nashville         2667   \n",
       "4  158289  11294262  Let's Talk Franklin Toastmasters Club          608   \n",
       "\n",
       "   category_id      category_name  organizer_id  \\\n",
       "0           31        Socializing       9681725   \n",
       "1           34               Tech      96591722   \n",
       "2           31        Socializing       7377000   \n",
       "3           10       Food & Drink     173228792   \n",
       "4            2  Career & Business      12742746   \n",
       "\n",
       "                          group_urlname  key  member_id    name  \\\n",
       "0           Couples-Exploring-Nashville    0    4607639  Darcia   \n",
       "1       Nashville-SaltStack-Users-Group    0    1921733   Sisco   \n",
       "2                           MusicCityYP    0    2559067    Jane   \n",
       "3     Dine-and-Unwind-in-East-Nashville    0    4955979     Lea   \n",
       "4  Lets-Talk-Franklin-Toastmasters-Club    0    4780315   catie   \n",
       "\n",
       "            hometown            city state    lat    lon  is_member_25  \\\n",
       "0     Hendersonville  Hendersonville    TN  36.32 -86.61           0.0   \n",
       "1                NaN       Nashville    TN  36.11 -86.86           0.0   \n",
       "2          Arrington       Arrington    TN  35.86 -86.66           0.0   \n",
       "3  Valdosta, Georgia       Nashville    TN  36.08 -86.72           0.0   \n",
       "4          Nashville       Nashville    TN  36.08 -86.72           0.0   \n",
       "\n",
       "   is_member_50  is_member_75  is_member_100  \n",
       "0           0.0           0.0            0.0  \n",
       "1           0.0           0.0            0.0  \n",
       "2           0.0           0.0            0.0  \n",
       "3           0.0           0.0            0.0  \n",
       "4           0.0           0.0            0.0  "
      ]
     },
     "execution_count": 268,
     "metadata": {},
     "output_type": "execute_result"
    }
   ],
   "source": [
    "gm_reduced = gm_all.iloc[idx_for_train] # reduce data set to only those rows corresponding to indicies found above\n",
    "gm_reduced = gm_reduced.reset_index()\n",
    "gm_reduced.head()"
   ]
  },
  {
   "cell_type": "markdown",
   "metadata": {},
   "source": [
    "Below is the procedure to add the data from the member-to-member graph to enhance the predictions\n",
    "\n",
    " * If link doesnt exist at specified time, add -1 as the centrality measure\n",
    " * This is also a very slow operation, almost certain there is a better way to do this"
   ]
  },
  {
   "cell_type": "code",
   "execution_count": 271,
   "metadata": {},
   "outputs": [
    {
     "name": "stdout",
     "output_type": "stream",
     "text": [
      "10.0% Complete\n",
      "20.0% Complete\n",
      "30.0% Complete\n",
      "40.0% Complete\n",
      "50.0% Complete\n",
      "60.0% Complete\n",
      "70.0% Complete\n",
      "80.0% Complete\n",
      "90.0% Complete\n",
      "100.0% Complete\n"
     ]
    },
    {
     "data": {
      "text/html": [
       "<div>\n",
       "<style scoped>\n",
       "    .dataframe tbody tr th:only-of-type {\n",
       "        vertical-align: middle;\n",
       "    }\n",
       "\n",
       "    .dataframe tbody tr th {\n",
       "        vertical-align: top;\n",
       "    }\n",
       "\n",
       "    .dataframe thead th {\n",
       "        text-align: right;\n",
       "    }\n",
       "</style>\n",
       "<table border=\"1\" class=\"dataframe\">\n",
       "  <thead>\n",
       "    <tr style=\"text-align: right;\">\n",
       "      <th></th>\n",
       "      <th>index</th>\n",
       "      <th>group_id</th>\n",
       "      <th>group_name</th>\n",
       "      <th>num_members</th>\n",
       "      <th>category_id</th>\n",
       "      <th>category_name</th>\n",
       "      <th>organizer_id</th>\n",
       "      <th>group_urlname</th>\n",
       "      <th>key</th>\n",
       "      <th>member_id</th>\n",
       "      <th>...</th>\n",
       "      <th>jaccards_25</th>\n",
       "      <th>jaccards_75</th>\n",
       "      <th>degree_cent_25</th>\n",
       "      <th>degree_cent_75</th>\n",
       "      <th>betwn_cent_25</th>\n",
       "      <th>betwn_cent_75</th>\n",
       "      <th>katz_cent_25</th>\n",
       "      <th>katz_cent_75</th>\n",
       "      <th>eig_cent_25</th>\n",
       "      <th>eig_cent_75</th>\n",
       "    </tr>\n",
       "  </thead>\n",
       "  <tbody>\n",
       "    <tr>\n",
       "      <th>2995</th>\n",
       "      <td>195179</td>\n",
       "      <td>2486942</td>\n",
       "      <td>Nashville Singularity Meetup</td>\n",
       "      <td>72</td>\n",
       "      <td>34</td>\n",
       "      <td>Tech</td>\n",
       "      <td>2256087</td>\n",
       "      <td>singularity-talk</td>\n",
       "      <td>0</td>\n",
       "      <td>2256087</td>\n",
       "      <td>...</td>\n",
       "      <td>-1.0</td>\n",
       "      <td>0.019608</td>\n",
       "      <td>0.001480</td>\n",
       "      <td>0.011900</td>\n",
       "      <td>0.000002</td>\n",
       "      <td>0.000110</td>\n",
       "      <td>0.006086</td>\n",
       "      <td>0.005677</td>\n",
       "      <td>6.184333e-05</td>\n",
       "      <td>1.629382e-03</td>\n",
       "    </tr>\n",
       "    <tr>\n",
       "      <th>2996</th>\n",
       "      <td>162072</td>\n",
       "      <td>20377949</td>\n",
       "      <td>Nashville Comedy Meetup</td>\n",
       "      <td>326</td>\n",
       "      <td>31</td>\n",
       "      <td>Socializing</td>\n",
       "      <td>212031851</td>\n",
       "      <td>Nashville-Comedy-Meetup</td>\n",
       "      <td>0</td>\n",
       "      <td>879954</td>\n",
       "      <td>...</td>\n",
       "      <td>-1.0</td>\n",
       "      <td>0.500000</td>\n",
       "      <td>-1.000000</td>\n",
       "      <td>0.001506</td>\n",
       "      <td>-1.000000</td>\n",
       "      <td>0.000000</td>\n",
       "      <td>-1.000000</td>\n",
       "      <td>0.004682</td>\n",
       "      <td>-1.000000e+00</td>\n",
       "      <td>3.078560e-05</td>\n",
       "    </tr>\n",
       "    <tr>\n",
       "      <th>2997</th>\n",
       "      <td>22718</td>\n",
       "      <td>19997487</td>\n",
       "      <td>Developer Launchpad Nashville</td>\n",
       "      <td>576</td>\n",
       "      <td>34</td>\n",
       "      <td>Tech</td>\n",
       "      <td>82204922</td>\n",
       "      <td>Developer-Launchpad-Nashville</td>\n",
       "      <td>0</td>\n",
       "      <td>5010820</td>\n",
       "      <td>...</td>\n",
       "      <td>-1.0</td>\n",
       "      <td>0.181668</td>\n",
       "      <td>-1.000000</td>\n",
       "      <td>0.064552</td>\n",
       "      <td>-1.000000</td>\n",
       "      <td>0.000024</td>\n",
       "      <td>-1.000000</td>\n",
       "      <td>0.011998</td>\n",
       "      <td>-1.000000e+00</td>\n",
       "      <td>2.801371e-02</td>\n",
       "    </tr>\n",
       "    <tr>\n",
       "      <th>2998</th>\n",
       "      <td>273568</td>\n",
       "      <td>1551589</td>\n",
       "      <td>Tarot Lights</td>\n",
       "      <td>177</td>\n",
       "      <td>22</td>\n",
       "      <td>New Age &amp; Spirituality</td>\n",
       "      <td>5463788</td>\n",
       "      <td>TarotLights</td>\n",
       "      <td>0</td>\n",
       "      <td>5463788</td>\n",
       "      <td>...</td>\n",
       "      <td>0.5</td>\n",
       "      <td>0.500000</td>\n",
       "      <td>0.000296</td>\n",
       "      <td>0.000291</td>\n",
       "      <td>0.000000</td>\n",
       "      <td>0.000000</td>\n",
       "      <td>0.005968</td>\n",
       "      <td>0.004569</td>\n",
       "      <td>3.801438e-07</td>\n",
       "      <td>7.180999e-07</td>\n",
       "    </tr>\n",
       "    <tr>\n",
       "      <th>2999</th>\n",
       "      <td>54132</td>\n",
       "      <td>2556962</td>\n",
       "      <td>Middle Tennessee Motorcycle Riders</td>\n",
       "      <td>1055</td>\n",
       "      <td>3</td>\n",
       "      <td>Cars &amp; Motorcycles</td>\n",
       "      <td>11578777</td>\n",
       "      <td>Middle-Tennessee-Motorcycle-Riders</td>\n",
       "      <td>0</td>\n",
       "      <td>1808238</td>\n",
       "      <td>...</td>\n",
       "      <td>0.5</td>\n",
       "      <td>0.275676</td>\n",
       "      <td>0.009179</td>\n",
       "      <td>0.019477</td>\n",
       "      <td>0.000000</td>\n",
       "      <td>0.000327</td>\n",
       "      <td>0.006607</td>\n",
       "      <td>0.006362</td>\n",
       "      <td>7.621432e-05</td>\n",
       "      <td>2.587464e-03</td>\n",
       "    </tr>\n",
       "  </tbody>\n",
       "</table>\n",
       "<p>5 rows × 32 columns</p>\n",
       "</div>"
      ],
      "text/plain": [
       "       index  group_id                          group_name  num_members  \\\n",
       "2995  195179   2486942        Nashville Singularity Meetup           72   \n",
       "2996  162072  20377949             Nashville Comedy Meetup          326   \n",
       "2997   22718  19997487       Developer Launchpad Nashville          576   \n",
       "2998  273568   1551589                        Tarot Lights          177   \n",
       "2999   54132   2556962  Middle Tennessee Motorcycle Riders         1055   \n",
       "\n",
       "      category_id           category_name  organizer_id  \\\n",
       "2995           34                    Tech       2256087   \n",
       "2996           31             Socializing     212031851   \n",
       "2997           34                    Tech      82204922   \n",
       "2998           22  New Age & Spirituality       5463788   \n",
       "2999            3      Cars & Motorcycles      11578777   \n",
       "\n",
       "                           group_urlname  key  member_id      ...       \\\n",
       "2995                    singularity-talk    0    2256087      ...        \n",
       "2996             Nashville-Comedy-Meetup    0     879954      ...        \n",
       "2997       Developer-Launchpad-Nashville    0    5010820      ...        \n",
       "2998                         TarotLights    0    5463788      ...        \n",
       "2999  Middle-Tennessee-Motorcycle-Riders    0    1808238      ...        \n",
       "\n",
       "     jaccards_25 jaccards_75 degree_cent_25 degree_cent_75  betwn_cent_25  \\\n",
       "2995        -1.0    0.019608       0.001480       0.011900       0.000002   \n",
       "2996        -1.0    0.500000      -1.000000       0.001506      -1.000000   \n",
       "2997        -1.0    0.181668      -1.000000       0.064552      -1.000000   \n",
       "2998         0.5    0.500000       0.000296       0.000291       0.000000   \n",
       "2999         0.5    0.275676       0.009179       0.019477       0.000000   \n",
       "\n",
       "      betwn_cent_75  katz_cent_25  katz_cent_75   eig_cent_25   eig_cent_75  \n",
       "2995       0.000110      0.006086      0.005677  6.184333e-05  1.629382e-03  \n",
       "2996       0.000000     -1.000000      0.004682 -1.000000e+00  3.078560e-05  \n",
       "2997       0.000024     -1.000000      0.011998 -1.000000e+00  2.801371e-02  \n",
       "2998       0.000000      0.005968      0.004569  3.801438e-07  7.180999e-07  \n",
       "2999       0.000327      0.006607      0.006362  7.621432e-05  2.587464e-03  \n",
       "\n",
       "[5 rows x 32 columns]"
      ]
     },
     "execution_count": 271,
     "metadata": {},
     "output_type": "execute_result"
    }
   ],
   "source": [
    "import time\n",
    "N_reduced = len(gm_reduced)\n",
    "gm_reduced['common_neighbors_25'] = np.zeros((N_reduced,1))\n",
    "gm_reduced['common_neighbors_75'] = np.zeros((N_reduced,1))\n",
    "gm_reduced['jaccards_25'] = np.zeros((N_reduced,1))\n",
    "gm_reduced['jaccards_75'] = np.zeros((N_reduced,1))\n",
    "gm_reduced['degree_cent_25'] = np.zeros((N_reduced,1))\n",
    "gm_reduced['degree_cent_75'] = np.zeros((N_reduced,1))\n",
    "gm_reduced['betwn_cent_25'] = np.zeros((N_reduced,1))\n",
    "gm_reduced['betwn_cent_75'] = np.zeros((N_reduced,1))\n",
    "gm_reduced['katz_cent_25'] = np.zeros((N_reduced,1))\n",
    "gm_reduced['katz_cent_75'] = np.zeros((N_reduced,1))\n",
    "gm_reduced['eig_cent_25'] = np.zeros((N_reduced,1))\n",
    "gm_reduced['eig_cent_75'] = np.zeros((N_reduced,1))\n",
    "\n",
    "for i in range(N_reduced):\n",
    "    if (i+1) % int((N_reduced/10)) == 0:\n",
    "        print('%.1f%% Complete' % (100*i/N_reduced))\n",
    "    \n",
    "    t0 = time.clock()\n",
    "\n",
    "\n",
    "    memb = gm_reduced['member_id'].iloc[i]\n",
    "    grp = gm_reduced['group_id'].iloc[i]\n",
    "    \n",
    "    # add common neighbours and jaccards at time T1 and T3\n",
    "    cn_25,j_25 = get_cn_and_jaccards(G_25, memb, grp)\n",
    "\n",
    "    cn_75,j_75 =  get_cn_and_jaccards(G_75, memb, grp)\n",
    "\n",
    "   \n",
    "\n",
    "    # add centraliy measurements at time T1\n",
    "    if G2_25.has_node(memb):        \n",
    "        dc_25 = deg_cent_25[memb]\n",
    "        bc_25 = betwn_cent_25[memb]\n",
    "        ec_25 = eigenval_cent_25[memb]\n",
    "        kc_25 = katz_cent_25[memb]\n",
    "\n",
    "    else:\n",
    "        dc_25 = -1\n",
    "        bc_25 = -1\n",
    "        ec_25 = -1\n",
    "        kc_25 = -1\n",
    "\n",
    "        \n",
    "    # add centraliy measurements at time T3\n",
    "    if G2_75.has_node(memb):       \n",
    "        dc_75 = deg_cent_75[memb]\n",
    "        bc_75 = betwn_cent_75[memb]\n",
    "        ec_75 = eigenval_cent_75[memb]\n",
    "        kc_75 = katz_cent_75[memb]\n",
    "\n",
    "    else:\n",
    "        dc_75 = -1\n",
    "        bc_75 = -1\n",
    "        ec_75 = -1\n",
    "        kc_75 = -1\n",
    "        \n",
    "    cols_set = ['common_neighbors_25','jaccards_25','common_neighbors_75','jaccards_75','degree_cent_25','betwn_cent_25','eig_cent_25','katz_cent_25','degree_cent_75','betwn_cent_75','eig_cent_75','katz_cent_75']   \n",
    "    vals_set = [cn_25,j_25,cn_75,j_75, dc_25, bc_25, ec_25, kc_25, dc_75, bc_75, ec_75, kc_75]\n",
    "    gm_reduced.set_value(i, cols_set, vals_set)\n",
    "   \n",
    "    t1 = time.clock()\n",
    "    #print(\"Time elapsed: \", t1 - t0) # CPU seconds elapsed (floating point)\n",
    "\n",
    "\n",
    "gm_reduced.tail(5)"
   ]
  },
  {
   "cell_type": "markdown",
   "metadata": {},
   "source": [
    "\n",
    "Find a subset to use for training that has:\n",
    "\n",
    " * No links after T1\n",
    " * Half of the members have links after T2"
   ]
  },
  {
   "cell_type": "code",
   "execution_count": 273,
   "metadata": {},
   "outputs": [],
   "source": [
    "idx_0_25 = np.where(gm_reduced['is_member_25'] == 0)[0]\n",
    "idx_1_50 = np.where(gm_reduced['is_member_50'] == 1)[0]\n",
    "\n",
    "idx_train = np.union1d(np.intersect1d(idx_0_25,idx_1_50),np.setdiff1d(idx_0_25,idx_1_50)[:len(np.intersect1d(idx_0_25,idx_1_50))])\n"
   ]
  },
  {
   "cell_type": "markdown",
   "metadata": {},
   "source": [
    "\n",
    "Find a subset to use for testing that has \n",
    "\n",
    " * No links after T3, as we want to predict which possible group-member combos that arent currently linked will have a link at time T4\n"
   ]
  },
  {
   "cell_type": "code",
   "execution_count": 274,
   "metadata": {},
   "outputs": [],
   "source": [
    "idx_0_75 = np.where(gm_reduced['is_member_75'] == 0)[0]\n",
    "#idx_1_100 = np.where(gm_reduced['is_member_100'] == 1)[0]\n",
    "\n",
    "#idx_test = np.union1d(np.intersect1d(idx_0_75,idx_1_100),np.setdiff1d(idx_0_75,idx_1_100)[:len(np.intersect1d(idx_0_75,idx_1_100))])\n",
    "idx_test = idx_0_75\n"
   ]
  },
  {
   "cell_type": "markdown",
   "metadata": {},
   "source": [
    "#### Link Prediction with Common Neighbours:"
   ]
  },
  {
   "cell_type": "code",
   "execution_count": 275,
   "metadata": {},
   "outputs": [
    {
     "data": {
      "text/html": [
       "<div>\n",
       "<style scoped>\n",
       "    .dataframe tbody tr th:only-of-type {\n",
       "        vertical-align: middle;\n",
       "    }\n",
       "\n",
       "    .dataframe tbody tr th {\n",
       "        vertical-align: top;\n",
       "    }\n",
       "\n",
       "    .dataframe thead th {\n",
       "        text-align: right;\n",
       "    }\n",
       "</style>\n",
       "<table border=\"1\" class=\"dataframe\">\n",
       "  <thead>\n",
       "    <tr style=\"text-align: right;\">\n",
       "      <th></th>\n",
       "      <th>num_members</th>\n",
       "      <th>common_neighbors_25</th>\n",
       "      <th>degree_cent_25</th>\n",
       "      <th>katz_cent_25</th>\n",
       "      <th>betwn_cent_25</th>\n",
       "      <th>eig_cent_25</th>\n",
       "    </tr>\n",
       "  </thead>\n",
       "  <tbody>\n",
       "    <tr>\n",
       "      <th>0</th>\n",
       "      <td>155</td>\n",
       "      <td>-1.0</td>\n",
       "      <td>-1.000000</td>\n",
       "      <td>-1.000000</td>\n",
       "      <td>-1.0</td>\n",
       "      <td>-1.000000</td>\n",
       "    </tr>\n",
       "    <tr>\n",
       "      <th>1</th>\n",
       "      <td>26</td>\n",
       "      <td>-1.0</td>\n",
       "      <td>-1.000000</td>\n",
       "      <td>-1.000000</td>\n",
       "      <td>-1.0</td>\n",
       "      <td>-1.000000</td>\n",
       "    </tr>\n",
       "    <tr>\n",
       "      <th>2</th>\n",
       "      <td>1388</td>\n",
       "      <td>-1.0</td>\n",
       "      <td>0.006415</td>\n",
       "      <td>0.006386</td>\n",
       "      <td>0.0</td>\n",
       "      <td>0.000066</td>\n",
       "    </tr>\n",
       "    <tr>\n",
       "      <th>3</th>\n",
       "      <td>2667</td>\n",
       "      <td>-1.0</td>\n",
       "      <td>-1.000000</td>\n",
       "      <td>-1.000000</td>\n",
       "      <td>-1.0</td>\n",
       "      <td>-1.000000</td>\n",
       "    </tr>\n",
       "    <tr>\n",
       "      <th>4</th>\n",
       "      <td>608</td>\n",
       "      <td>-1.0</td>\n",
       "      <td>-1.000000</td>\n",
       "      <td>-1.000000</td>\n",
       "      <td>-1.0</td>\n",
       "      <td>-1.000000</td>\n",
       "    </tr>\n",
       "  </tbody>\n",
       "</table>\n",
       "</div>"
      ],
      "text/plain": [
       "   num_members  common_neighbors_25  degree_cent_25  katz_cent_25  \\\n",
       "0          155                 -1.0       -1.000000     -1.000000   \n",
       "1           26                 -1.0       -1.000000     -1.000000   \n",
       "2         1388                 -1.0        0.006415      0.006386   \n",
       "3         2667                 -1.0       -1.000000     -1.000000   \n",
       "4          608                 -1.0       -1.000000     -1.000000   \n",
       "\n",
       "   betwn_cent_25  eig_cent_25  \n",
       "0           -1.0    -1.000000  \n",
       "1           -1.0    -1.000000  \n",
       "2            0.0     0.000066  \n",
       "3           -1.0    -1.000000  \n",
       "4           -1.0    -1.000000  "
      ]
     },
     "execution_count": 275,
     "metadata": {},
     "output_type": "execute_result"
    }
   ],
   "source": [
    "gm_reduced_train = gm_reduced.iloc[idx_train]\n",
    "\n",
    "\n",
    "y = gm_reduced_train['is_member_50'].values\n",
    "\n",
    "train_cols = ['num_members','common_neighbors_25','degree_cent_25','katz_cent_25','betwn_cent_25','eig_cent_25']\n",
    "X = gm_reduced_train[train_cols]\n",
    "X.head()\n"
   ]
  },
  {
   "cell_type": "code",
   "execution_count": 276,
   "metadata": {},
   "outputs": [],
   "source": [
    "from sklearn.model_selection import train_test_split\n",
    "from sklearn.preprocessing import StandardScaler\n",
    "\n",
    "X_train, X_test, y_train, y_test = train_test_split(X, y, test_size=0.30, random_state=42, shuffle = True)\n",
    "\n",
    "ss = StandardScaler().fit(X_train)\n",
    "X_train = ss.transform(X_train)\n",
    "X_test = ss.transform(X_test)\n"
   ]
  },
  {
   "cell_type": "code",
   "execution_count": 277,
   "metadata": {},
   "outputs": [
    {
     "data": {
      "text/plain": [
       "RandomForestClassifier(bootstrap=True, class_weight=None, criterion='gini',\n",
       "            max_depth=None, max_features='auto', max_leaf_nodes=None,\n",
       "            min_impurity_decrease=0.0, min_impurity_split=None,\n",
       "            min_samples_leaf=1, min_samples_split=2,\n",
       "            min_weight_fraction_leaf=0.0, n_estimators=10, n_jobs=None,\n",
       "            oob_score=False, random_state=None, verbose=0,\n",
       "            warm_start=False)"
      ]
     },
     "execution_count": 277,
     "metadata": {},
     "output_type": "execute_result"
    }
   ],
   "source": [
    "from sklearn.linear_model import LogisticRegression\n",
    "from sklearn.ensemble import RandomForestClassifier\n",
    "\n",
    "\n",
    "LR = LogisticRegression()\n",
    "LR.fit(X_train, y_train)\n",
    "\n",
    "RF = RandomForestClassifier()\n",
    "RF.fit(X_train, y_train)\n",
    "# print(LR.score(X_train, y_train))\n",
    "\n",
    "# print(LR.predict(X_train))\n",
    "# print(y_train)"
   ]
  },
  {
   "cell_type": "code",
   "execution_count": 279,
   "metadata": {},
   "outputs": [
    {
     "name": "stdout",
     "output_type": "stream",
     "text": [
      "Linear Regression Accuracy: 0.80\n",
      "Linear Regression f1 score: 0.30\n",
      "              precision    recall  f1-score   support\n",
      "\n",
      "         0.0       0.81      0.96      0.88      1681\n",
      "         1.0       0.58      0.20      0.30       467\n",
      "\n",
      "   micro avg       0.80      0.80      0.80      2148\n",
      "   macro avg       0.70      0.58      0.59      2148\n",
      "weighted avg       0.76      0.80      0.75      2148\n",
      "\n",
      "Random Forest Accuracy: 0.71\n",
      "Random Forest f1 score: 0.24\n",
      "              precision    recall  f1-score   support\n",
      "\n",
      "         0.0       0.72      0.96      0.82      1487\n",
      "         1.0       0.62      0.15      0.24       661\n",
      "\n",
      "   micro avg       0.71      0.71      0.71      2148\n",
      "   macro avg       0.67      0.55      0.53      2148\n",
      "weighted avg       0.69      0.71      0.64      2148\n",
      "\n"
     ]
    }
   ],
   "source": [
    "from sklearn.metrics import f1_score\n",
    "from sklearn.metrics import classification_report\n",
    "\n",
    "\n",
    "gm_reduced_test = gm_reduced.iloc[idx_test]\n",
    "\n",
    "\n",
    "y = gm_reduced_test['is_member_100'].values\n",
    "\n",
    "\n",
    "test_cols = ['num_members','common_neighbors_75','degree_cent_75','katz_cent_75','betwn_cent_75','eig_cent_75']\n",
    "X = gm_reduced_test[test_cols]\n",
    "#X = pd.get_dummies(X, columns=['state'])\n",
    "X_test, _, y_test, _ = train_test_split(X, y, test_size=0.0, random_state=42, shuffle = True)\n",
    "X_test = ss.transform(X_test)\n",
    "print('Linear Regression Accuracy: %0.2f' % LR.score(X_test,y_test))\n",
    "print('Linear Regression f1 score: %0.2f' % f1_score(LR.predict(X_test),y_test))\n",
    "print(classification_report(LR.predict(X_test),y_test))\n",
    "\n",
    "print('Random Forest Accuracy: %0.2f' % RF.score(X_test,y_test))\n",
    "print('Random Forest f1 score: %0.2f' % f1_score(RF.predict(X_test),y_test))\n",
    "print(classification_report(RF.predict(X_test),y_test))\n",
    "\n"
   ]
  },
  {
   "cell_type": "markdown",
   "metadata": {},
   "source": [
    "#### Link Prediction with Jaccards Coefficient:\n",
    "\n",
    "(same procedure as above except use Jaccards coefficient instead of common neighbours)"
   ]
  },
  {
   "cell_type": "code",
   "execution_count": 280,
   "metadata": {},
   "outputs": [],
   "source": [
    "gm_reduced_train = gm_reduced.iloc[idx_train]\n",
    "\n",
    "\n",
    "y = gm_reduced_train['is_member_50'].values\n",
    "\n",
    "train_cols = ['num_members','jaccards_25','degree_cent_25','katz_cent_25','betwn_cent_25','eig_cent_25']\n",
    "X = gm_reduced_train[train_cols]\n",
    "\n"
   ]
  },
  {
   "cell_type": "code",
   "execution_count": 281,
   "metadata": {},
   "outputs": [],
   "source": [
    "\n",
    "X_train, X_test, y_train, y_test = train_test_split(X, y, test_size=0.30, random_state=42, shuffle = True)\n",
    "\n",
    "ss = StandardScaler().fit(X_train)\n",
    "X_train = ss.transform(X_train)\n",
    "X_test = ss.transform(X_test)\n"
   ]
  },
  {
   "cell_type": "code",
   "execution_count": 282,
   "metadata": {},
   "outputs": [
    {
     "data": {
      "text/plain": [
       "RandomForestClassifier(bootstrap=True, class_weight=None, criterion='gini',\n",
       "            max_depth=None, max_features='auto', max_leaf_nodes=None,\n",
       "            min_impurity_decrease=0.0, min_impurity_split=None,\n",
       "            min_samples_leaf=1, min_samples_split=2,\n",
       "            min_weight_fraction_leaf=0.0, n_estimators=10, n_jobs=None,\n",
       "            oob_score=False, random_state=None, verbose=0,\n",
       "            warm_start=False)"
      ]
     },
     "execution_count": 282,
     "metadata": {},
     "output_type": "execute_result"
    }
   ],
   "source": [
    "# from sklearn.linear_model import LogisticRegression\n",
    "# from sklearn.ensemble import RandomForestClassifer\n",
    "\n",
    "\n",
    "LR_j = LogisticRegression()\n",
    "LR_j.fit(X_train, y_train)\n",
    "\n",
    "RF_j = RandomForestClassifier()\n",
    "RF_j.fit(X_train, y_train)\n",
    "# print(LR.score(X_train, y_train))\n",
    "\n",
    "# print(LR.predict(X_train))\n",
    "# print(y_train)"
   ]
  },
  {
   "cell_type": "code",
   "execution_count": 283,
   "metadata": {},
   "outputs": [
    {
     "name": "stdout",
     "output_type": "stream",
     "text": [
      "Linear Regression Accuracy: 0.71\n",
      "Linear Regression f1 score: 0.26\n",
      "              precision    recall  f1-score   support\n",
      "\n",
      "         0.0       0.70      0.96      0.81      1456\n",
      "         1.0       0.65      0.15      0.24       692\n",
      "\n",
      "   micro avg       0.70      0.70      0.70      2148\n",
      "   macro avg       0.68      0.56      0.53      2148\n",
      "weighted avg       0.69      0.70      0.63      2148\n",
      "\n",
      "Random Forest Accuracy: 0.73\n",
      "Random Forest f1 score: 0.24\n",
      "              precision    recall  f1-score   support\n",
      "\n",
      "         0.0       0.65      0.96      0.78      1352\n",
      "         1.0       0.65      0.13      0.22       796\n",
      "\n",
      "   micro avg       0.65      0.65      0.65      2148\n",
      "   macro avg       0.65      0.54      0.50      2148\n",
      "weighted avg       0.65      0.65      0.57      2148\n",
      "\n"
     ]
    }
   ],
   "source": [
    "gm_reduced_test = gm_reduced.iloc[idx_test]\n",
    "\n",
    "\n",
    "y = gm_reduced_test['is_member_100'].values\n",
    "\n",
    "\n",
    "test_cols = ['num_members','jaccards_75','degree_cent_75','katz_cent_75','betwn_cent_75','eig_cent_75']\n",
    "X = gm_reduced_test[test_cols]\n",
    "#X = pd.get_dummies(X, columns=['state'])\n",
    "X_test, _, y_test, _ = train_test_split(X, y, test_size=0.0, random_state=42, shuffle = True)\n",
    "X_test = ss.transform(X_test)\n",
    "print('Linear Regression Accuracy: %0.2f' % LR_j.score(X_test,y_test))\n",
    "print('Linear Regression f1 score: %0.2f' % f1_score(LR_j.predict(X_test),y_test))\n",
    "print(classification_report(LR.predict(X_test),y_test))\n",
    "\n",
    "print('Random Forest Accuracy: %0.2f' % RF_j.score(X_test,y_test))\n",
    "print('Random Forest f1 score: %0.2f' % f1_score(RF_j.predict(X_test),y_test))\n",
    "print(classification_report(RF.predict(X_test),y_test))\n",
    "\n"
   ]
  },
  {
   "cell_type": "markdown",
   "metadata": {},
   "source": [
    "The approaches presented above for predicting links created from time T3 to time T4 (one using number of common neighbors as link prediction from member-to-group graph, other uses jaccard coefficient) produce interesting results. Using common neighbours linear regression outperforms a random forest, whereas the opposite is true for Jaccards coefficient. \n",
    "\n",
    "The accurcy of the models is not surprising. Predicting links is challenging, and the poor recall values indicate a bias towards not predicting a new links when in fact there will be one. This is due to the imbalance between links and no links, even though I drastically reduced the number of non-links in the train and test set. "
   ]
  },
  {
   "cell_type": "markdown",
   "metadata": {},
   "source": [
    "To improve the above models, more of the metadata regarding the members and groups could have been used. For example, determine info about each group from its members (such as which state most of the members live in) and compare that to info about a new potential member-group link."
   ]
  },
  {
   "cell_type": "code",
   "execution_count": null,
   "metadata": {},
   "outputs": [],
   "source": []
  }
 ],
 "metadata": {
  "kernelspec": {
   "display_name": "Python 3",
   "language": "python",
   "name": "python3"
  },
  "language_info": {
   "codemirror_mode": {
    "name": "ipython",
    "version": 3
   },
   "file_extension": ".py",
   "mimetype": "text/x-python",
   "name": "python",
   "nbconvert_exporter": "python",
   "pygments_lexer": "ipython3",
   "version": "3.7.1"
  }
 },
 "nbformat": 4,
 "nbformat_minor": 2
}
