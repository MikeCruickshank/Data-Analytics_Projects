{
 "cells": [
  {
   "cell_type": "markdown",
   "metadata": {},
   "source": [
    "# Assignment 1 - CSIC 351\n",
    "## Mike Cruickshank (10130161)\n",
    "## January 21st, 2019"
   ]
  },
  {
   "cell_type": "markdown",
   "metadata": {},
   "source": [
    "## Problem 1"
   ]
  },
  {
   "cell_type": "markdown",
   "metadata": {},
   "source": [
    "### Import and Pre-Processing of Data"
   ]
  },
  {
   "cell_type": "code",
   "execution_count": 199,
   "metadata": {},
   "outputs": [],
   "source": [
    "import pandas as pd \n",
    "import numpy as np\n",
    "import matplotlib.pyplot as plt\n",
    "df=pd.read_csv('assignment1-data.csv')\n"
   ]
  },
  {
   "cell_type": "code",
   "execution_count": 200,
   "metadata": {},
   "outputs": [
    {
     "data": {
      "text/html": [
       "<div>\n",
       "<style scoped>\n",
       "    .dataframe tbody tr th:only-of-type {\n",
       "        vertical-align: middle;\n",
       "    }\n",
       "\n",
       "    .dataframe tbody tr th {\n",
       "        vertical-align: top;\n",
       "    }\n",
       "\n",
       "    .dataframe thead th {\n",
       "        text-align: right;\n",
       "    }\n",
       "</style>\n",
       "<table border=\"1\" class=\"dataframe\">\n",
       "  <thead>\n",
       "    <tr style=\"text-align: right;\">\n",
       "      <th></th>\n",
       "      <th>Density</th>\n",
       "      <th>%Body Fat</th>\n",
       "      <th>Age</th>\n",
       "      <th>Weight</th>\n",
       "      <th>Height</th>\n",
       "      <th>Neck</th>\n",
       "      <th>Chest</th>\n",
       "      <th>Abdomen</th>\n",
       "      <th>Hip</th>\n",
       "      <th>Thigh</th>\n",
       "      <th>Knee</th>\n",
       "      <th>Ankle</th>\n",
       "      <th>Biceps</th>\n",
       "      <th>Forearm</th>\n",
       "      <th>Wrist</th>\n",
       "    </tr>\n",
       "  </thead>\n",
       "  <tbody>\n",
       "    <tr>\n",
       "      <th>0</th>\n",
       "      <td>1.0708</td>\n",
       "      <td>12.3</td>\n",
       "      <td>23</td>\n",
       "      <td>154.25</td>\n",
       "      <td>67.75</td>\n",
       "      <td>36.2</td>\n",
       "      <td>93.1</td>\n",
       "      <td>85.2</td>\n",
       "      <td>94.5</td>\n",
       "      <td>59.0</td>\n",
       "      <td>37.3</td>\n",
       "      <td>21.9</td>\n",
       "      <td>32.0</td>\n",
       "      <td>27.4</td>\n",
       "      <td>17.1</td>\n",
       "    </tr>\n",
       "    <tr>\n",
       "      <th>1</th>\n",
       "      <td>1.0853</td>\n",
       "      <td>6.1</td>\n",
       "      <td>22</td>\n",
       "      <td>173.25</td>\n",
       "      <td>72.25</td>\n",
       "      <td>38.5</td>\n",
       "      <td>93.6</td>\n",
       "      <td>83.0</td>\n",
       "      <td>98.7</td>\n",
       "      <td>58.7</td>\n",
       "      <td>37.3</td>\n",
       "      <td>23.4</td>\n",
       "      <td>30.5</td>\n",
       "      <td>28.9</td>\n",
       "      <td>18.2</td>\n",
       "    </tr>\n",
       "    <tr>\n",
       "      <th>2</th>\n",
       "      <td>1.0414</td>\n",
       "      <td>25.3</td>\n",
       "      <td>22</td>\n",
       "      <td>154.00</td>\n",
       "      <td>66.25</td>\n",
       "      <td>34.0</td>\n",
       "      <td>95.8</td>\n",
       "      <td>87.9</td>\n",
       "      <td>99.2</td>\n",
       "      <td>59.6</td>\n",
       "      <td>38.9</td>\n",
       "      <td>24.0</td>\n",
       "      <td>28.8</td>\n",
       "      <td>25.2</td>\n",
       "      <td>16.6</td>\n",
       "    </tr>\n",
       "    <tr>\n",
       "      <th>3</th>\n",
       "      <td>1.0751</td>\n",
       "      <td>10.4</td>\n",
       "      <td>26</td>\n",
       "      <td>184.75</td>\n",
       "      <td>72.25</td>\n",
       "      <td>37.4</td>\n",
       "      <td>101.8</td>\n",
       "      <td>86.4</td>\n",
       "      <td>101.2</td>\n",
       "      <td>60.1</td>\n",
       "      <td>37.3</td>\n",
       "      <td>22.8</td>\n",
       "      <td>32.4</td>\n",
       "      <td>29.4</td>\n",
       "      <td>18.2</td>\n",
       "    </tr>\n",
       "    <tr>\n",
       "      <th>4</th>\n",
       "      <td>1.0340</td>\n",
       "      <td>28.7</td>\n",
       "      <td>24</td>\n",
       "      <td>184.25</td>\n",
       "      <td>71.25</td>\n",
       "      <td>34.4</td>\n",
       "      <td>97.3</td>\n",
       "      <td>100.0</td>\n",
       "      <td>101.9</td>\n",
       "      <td>63.2</td>\n",
       "      <td>42.2</td>\n",
       "      <td>24.0</td>\n",
       "      <td>32.2</td>\n",
       "      <td>27.7</td>\n",
       "      <td>17.7</td>\n",
       "    </tr>\n",
       "  </tbody>\n",
       "</table>\n",
       "</div>"
      ],
      "text/plain": [
       "   Density  %Body Fat  Age  Weight  Height  Neck  Chest  Abdomen    Hip  \\\n",
       "0   1.0708       12.3   23  154.25   67.75  36.2   93.1     85.2   94.5   \n",
       "1   1.0853        6.1   22  173.25   72.25  38.5   93.6     83.0   98.7   \n",
       "2   1.0414       25.3   22  154.00   66.25  34.0   95.8     87.9   99.2   \n",
       "3   1.0751       10.4   26  184.75   72.25  37.4  101.8     86.4  101.2   \n",
       "4   1.0340       28.7   24  184.25   71.25  34.4   97.3    100.0  101.9   \n",
       "\n",
       "   Thigh  Knee  Ankle  Biceps  Forearm  Wrist  \n",
       "0   59.0  37.3   21.9    32.0     27.4   17.1  \n",
       "1   58.7  37.3   23.4    30.5     28.9   18.2  \n",
       "2   59.6  38.9   24.0    28.8     25.2   16.6  \n",
       "3   60.1  37.3   22.8    32.4     29.4   18.2  \n",
       "4   63.2  42.2   24.0    32.2     27.7   17.7  "
      ]
     },
     "execution_count": 200,
     "metadata": {},
     "output_type": "execute_result"
    }
   ],
   "source": [
    "df = df.drop('Subject', axis=1)\n",
    "y = df['%Body Fat']\n",
    "X = df\n",
    "X = X.drop('%Body Fat', axis=1)\n",
    "df.head()"
   ]
  },
  {
   "cell_type": "markdown",
   "metadata": {},
   "source": [
    "The correlation between the attributes is analyzed below using both a correlation heat map and a list of correlation to body fat values."
   ]
  },
  {
   "cell_type": "code",
   "execution_count": 201,
   "metadata": {},
   "outputs": [
    {
     "data": {
      "text/plain": [
       "<matplotlib.axes._subplots.AxesSubplot at 0x1b362695780>"
      ]
     },
     "execution_count": 201,
     "metadata": {},
     "output_type": "execute_result"
    },
    {
     "data": {
      "image/png": "[encoded data removed]",
      "text/plain": [
       "<Figure size 432x288 with 2 Axes>"
      ]
     },
     "metadata": {
      "needs_background": "light"
     },
     "output_type": "display_data"
    }
   ],
   "source": [
    "import seaborn as sns\n",
    "corr = df.corr()\n",
    "sns.heatmap(corr, \n",
    "            xticklabels=corr.columns.values,\n",
    "            yticklabels=corr.columns.values)"
   ]
  },
  {
   "cell_type": "code",
   "execution_count": 202,
   "metadata": {},
   "outputs": [
    {
     "name": "stdout",
     "output_type": "stream",
     "text": [
      "Correlation coefficient with body fat %: \n",
      "\n",
      "Density     -0.997003\n",
      "%Body Fat    1.000000\n",
      "Age          0.276259\n",
      "Weight       0.610676\n",
      "Height      -0.025229\n",
      "Neck         0.486798\n",
      "Chest        0.699595\n",
      "Abdomen      0.811838\n",
      "Hip          0.625624\n",
      "Thigh        0.567449\n",
      "Knee         0.502145\n",
      "Ankle        0.318188\n",
      "Biceps       0.496172\n",
      "Forearm      0.359573\n",
      "Wrist        0.332994\n",
      "Name: %Body Fat, dtype: float64\n"
     ]
    }
   ],
   "source": [
    "cor = df.corr()\n",
    "print(\"Correlation coefficient with body fat %: \\n\")\n",
    "print(cor['%Body Fat'])\n"
   ]
  },
  {
   "cell_type": "markdown",
   "metadata": {},
   "source": [
    "As displayed above, it is clear that the attribute with the highest linear correlation coefficient with % Body Fat is Density. Therefore this will be the first variable used to build a model."
   ]
  },
  {
   "cell_type": "markdown",
   "metadata": {},
   "source": [
    "#### One Variable Model"
   ]
  },
  {
   "cell_type": "markdown",
   "metadata": {},
   "source": [
    "Before building a general linear model, the plot of body fat percent and density is constructed to display the strong correlation. "
   ]
  },
  {
   "cell_type": "code",
   "execution_count": 203,
   "metadata": {},
   "outputs": [
    {
     "data": {
      "image/png": "[encoded data removed]",
      "text/plain": [
       "<Figure size 432x288 with 1 Axes>"
      ]
     },
     "metadata": {
      "needs_background": "light"
     },
     "output_type": "display_data"
    }
   ],
   "source": [
    "plt.plot(X['Density'],y,'.')\n",
    "plt.xlabel(\"Density\")\n",
    "plt.ylabel(\"Body Fat %\")\n",
    "plt.grid()\n",
    "\n"
   ]
  },
  {
   "cell_type": "code",
   "execution_count": null,
   "metadata": {},
   "outputs": [],
   "source": []
  },
  {
   "cell_type": "markdown",
   "metadata": {},
   "source": [
    "Linear model using statsmodels:"
   ]
  },
  {
   "cell_type": "code",
   "execution_count": 204,
   "metadata": {},
   "outputs": [],
   "source": [
    "import statsmodels.api as sm\n"
   ]
  },
  {
   "cell_type": "code",
   "execution_count": 237,
   "metadata": {
    "scrolled": true
   },
   "outputs": [
    {
     "data": {
      "text/html": [
       "<table class=\"simpletable\">\n",
       "<caption>OLS Regression Results</caption>\n",
       "<tr>\n",
       "  <th>Dep. Variable:</th>        <td>%Body Fat</td>    <th>  R-squared:         </th> <td>   0.994</td> \n",
       "</tr>\n",
       "<tr>\n",
       "  <th>Model:</th>                   <td>OLS</td>       <th>  Adj. R-squared:    </th> <td>   0.994</td> \n",
       "</tr>\n",
       "<tr>\n",
       "  <th>Method:</th>             <td>Least Squares</td>  <th>  F-statistic:       </th> <td>4.119e+04</td>\n",
       "</tr>\n",
       "<tr>\n",
       "  <th>Date:</th>             <td>Thu, 24 Jan 2019</td> <th>  Prob (F-statistic):</th> <td>1.16e-277</td>\n",
       "</tr>\n",
       "<tr>\n",
       "  <th>Time:</th>                 <td>19:53:45</td>     <th>  Log-Likelihood:    </th> <td> -245.51</td> \n",
       "</tr>\n",
       "<tr>\n",
       "  <th>No. Observations:</th>      <td>   250</td>      <th>  AIC:               </th> <td>   495.0</td> \n",
       "</tr>\n",
       "<tr>\n",
       "  <th>Df Residuals:</th>          <td>   248</td>      <th>  BIC:               </th> <td>   502.1</td> \n",
       "</tr>\n",
       "<tr>\n",
       "  <th>Df Model:</th>              <td>     1</td>      <th>                     </th>     <td> </td>    \n",
       "</tr>\n",
       "<tr>\n",
       "  <th>Covariance Type:</th>      <td>nonrobust</td>    <th>                     </th>     <td> </td>    \n",
       "</tr>\n",
       "</table>\n",
       "<table class=\"simpletable\">\n",
       "<tr>\n",
       "     <td></td>        <th>coef</th>     <th>std err</th>      <th>t</th>      <th>P>|t|</th>  <th>[0.025</th>    <th>0.975]</th>  \n",
       "</tr>\n",
       "<tr>\n",
       "  <th>const</th>   <td>  487.8412</td> <td>    2.310</td> <td>  211.169</td> <td> 0.000</td> <td>  483.291</td> <td>  492.391</td>\n",
       "</tr>\n",
       "<tr>\n",
       "  <th>Density</th> <td> -444.0917</td> <td>    2.188</td> <td> -202.942</td> <td> 0.000</td> <td> -448.402</td> <td> -439.782</td>\n",
       "</tr>\n",
       "</table>\n",
       "<table class=\"simpletable\">\n",
       "<tr>\n",
       "  <th>Omnibus:</th>       <td>409.880</td> <th>  Durbin-Watson:     </th>  <td>   1.979</td> \n",
       "</tr>\n",
       "<tr>\n",
       "  <th>Prob(Omnibus):</th> <td> 0.000</td>  <th>  Jarque-Bera (JB):  </th> <td>190160.225</td>\n",
       "</tr>\n",
       "<tr>\n",
       "  <th>Skew:</th>          <td>-7.956</td>  <th>  Prob(JB):          </th>  <td>    0.00</td> \n",
       "</tr>\n",
       "<tr>\n",
       "  <th>Kurtosis:</th>      <td>137.172</td> <th>  Cond. No.          </th>  <td>    113.</td> \n",
       "</tr>\n",
       "</table><br/><br/>Warnings:<br/>[1] Standard Errors assume that the covariance matrix of the errors is correctly specified."
      ],
      "text/plain": [
       "<class 'statsmodels.iolib.summary.Summary'>\n",
       "\"\"\"\n",
       "                            OLS Regression Results                            \n",
       "==============================================================================\n",
       "Dep. Variable:              %Body Fat   R-squared:                       0.994\n",
       "Model:                            OLS   Adj. R-squared:                  0.994\n",
       "Method:                 Least Squares   F-statistic:                 4.119e+04\n",
       "Date:                Thu, 24 Jan 2019   Prob (F-statistic):          1.16e-277\n",
       "Time:                        19:53:45   Log-Likelihood:                -245.51\n",
       "No. Observations:                 250   AIC:                             495.0\n",
       "Df Residuals:                     248   BIC:                             502.1\n",
       "Df Model:                           1                                         \n",
       "Covariance Type:            nonrobust                                         \n",
       "==============================================================================\n",
       "                 coef    std err          t      P>|t|      [0.025      0.975]\n",
       "------------------------------------------------------------------------------\n",
       "const        487.8412      2.310    211.169      0.000     483.291     492.391\n",
       "Density     -444.0917      2.188   -202.942      0.000    -448.402    -439.782\n",
       "==============================================================================\n",
       "Omnibus:                      409.880   Durbin-Watson:                   1.979\n",
       "Prob(Omnibus):                  0.000   Jarque-Bera (JB):           190160.225\n",
       "Skew:                          -7.956   Prob(JB):                         0.00\n",
       "Kurtosis:                     137.172   Cond. No.                         113.\n",
       "==============================================================================\n",
       "\n",
       "Warnings:\n",
       "[1] Standard Errors assume that the covariance matrix of the errors is correctly specified.\n",
       "\"\"\""
      ]
     },
     "execution_count": 237,
     "metadata": {},
     "output_type": "execute_result"
    }
   ],
   "source": [
    "x = X['Density']\n",
    "\n",
    "x_train = sm.add_constant(x)\n",
    "y_train = y \n",
    "\n",
    "model = sm.OLS(y_train, x_train)\n",
    "model = model.fit()\n",
    "model.summary()\n",
    "\n"
   ]
  },
  {
   "cell_type": "markdown",
   "metadata": {},
   "source": [
    "This linear model has a very good fit, as denoted by an R-squared value of 0.993. The p-value for density is essentially zero which tells us that this is a statistically significant variable. "
   ]
  },
  {
   "cell_type": "markdown",
   "metadata": {},
   "source": [
    "#### Two Variable Model"
   ]
  },
  {
   "cell_type": "code",
   "execution_count": 238,
   "metadata": {},
   "outputs": [
    {
     "name": "stdout",
     "output_type": "stream",
     "text": [
      "Correlation coefficient with body fat % and with density: \n",
      "\n",
      "           %Body Fat   Density\n",
      "Density    -0.997003  1.000000\n",
      "%Body Fat   1.000000 -0.997003\n",
      "Age         0.276259 -0.275342\n",
      "Weight      0.610676 -0.609105\n",
      "Height     -0.025229  0.018081\n",
      "Neck        0.486798 -0.483295\n",
      "Chest       0.699595 -0.696970\n",
      "Abdomen     0.811838 -0.808699\n",
      "Hip         0.625624 -0.623181\n",
      "Thigh       0.567449 -0.566797\n",
      "Knee        0.502145 -0.505633\n",
      "Ankle       0.318188 -0.318061\n",
      "Biceps      0.496172 -0.494681\n",
      "Forearm     0.359573 -0.359951\n",
      "Wrist       0.332994 -0.335852\n"
     ]
    }
   ],
   "source": [
    "print(\"Correlation coefficient with body fat % and with density: \\n\")\n",
    "print(cor[['%Body Fat','Density']])"
   ]
  },
  {
   "cell_type": "markdown",
   "metadata": {},
   "source": [
    "After analyzing the correlation coefficients, I will choose to use abdomen as the second variable for the two-regressor model. After density, it has the second highest correlation with body fat %. \n",
    "\n",
    "In general, the correlation between the predictors themselves should be an important consideration when choosing which predictor to add to the model. However, due to the very high correlation between body fat and density, it is difficult to choose a parameter that will result in low multicollinearity as well as make a significant contribution to the performance of the model"
   ]
  },
  {
   "cell_type": "code",
   "execution_count": 244,
   "metadata": {
    "scrolled": true
   },
   "outputs": [
    {
     "data": {
      "text/html": [
       "<table class=\"simpletable\">\n",
       "<caption>OLS Regression Results</caption>\n",
       "<tr>\n",
       "  <th>Dep. Variable:</th>        <td>%Body Fat</td>    <th>  R-squared:         </th> <td>   0.994</td> \n",
       "</tr>\n",
       "<tr>\n",
       "  <th>Model:</th>                   <td>OLS</td>       <th>  Adj. R-squared:    </th> <td>   0.994</td> \n",
       "</tr>\n",
       "<tr>\n",
       "  <th>Method:</th>             <td>Least Squares</td>  <th>  F-statistic:       </th> <td>2.082e+04</td>\n",
       "</tr>\n",
       "<tr>\n",
       "  <th>Date:</th>             <td>Thu, 24 Jan 2019</td> <th>  Prob (F-statistic):</th> <td>4.62e-276</td>\n",
       "</tr>\n",
       "<tr>\n",
       "  <th>Time:</th>                 <td>19:54:19</td>     <th>  Log-Likelihood:    </th> <td> -243.63</td> \n",
       "</tr>\n",
       "<tr>\n",
       "  <th>No. Observations:</th>      <td>   250</td>      <th>  AIC:               </th> <td>   493.3</td> \n",
       "</tr>\n",
       "<tr>\n",
       "  <th>Df Residuals:</th>          <td>   247</td>      <th>  BIC:               </th> <td>   503.8</td> \n",
       "</tr>\n",
       "<tr>\n",
       "  <th>Df Model:</th>              <td>     2</td>      <th>                     </th>     <td> </td>    \n",
       "</tr>\n",
       "<tr>\n",
       "  <th>Covariance Type:</th>      <td>nonrobust</td>    <th>                     </th>     <td> </td>    \n",
       "</tr>\n",
       "</table>\n",
       "<table class=\"simpletable\">\n",
       "<tr>\n",
       "     <td></td>        <th>coef</th>     <th>std err</th>      <th>t</th>      <th>P>|t|</th>  <th>[0.025</th>    <th>0.975]</th>  \n",
       "</tr>\n",
       "<tr>\n",
       "  <th>const</th>   <td>  480.5726</td> <td>    4.402</td> <td>  109.167</td> <td> 0.000</td> <td>  471.902</td> <td>  489.243</td>\n",
       "</tr>\n",
       "<tr>\n",
       "  <th>Density</th> <td> -438.3003</td> <td>    3.700</td> <td> -118.469</td> <td> 0.000</td> <td> -445.587</td> <td> -431.013</td>\n",
       "</tr>\n",
       "<tr>\n",
       "  <th>Abdomen</th> <td>    0.0125</td> <td>    0.006</td> <td>    1.936</td> <td> 0.054</td> <td>   -0.000</td> <td>    0.025</td>\n",
       "</tr>\n",
       "</table>\n",
       "<table class=\"simpletable\">\n",
       "<tr>\n",
       "  <th>Omnibus:</th>       <td>406.732</td> <th>  Durbin-Watson:     </th>  <td>   2.014</td> \n",
       "</tr>\n",
       "<tr>\n",
       "  <th>Prob(Omnibus):</th> <td> 0.000</td>  <th>  Jarque-Bera (JB):  </th> <td>184884.000</td>\n",
       "</tr>\n",
       "<tr>\n",
       "  <th>Skew:</th>          <td>-7.838</td>  <th>  Prob(JB):          </th>  <td>    0.00</td> \n",
       "</tr>\n",
       "<tr>\n",
       "  <th>Kurtosis:</th>      <td>135.299</td> <th>  Cond. No.          </th>  <td>1.31e+04</td> \n",
       "</tr>\n",
       "</table><br/><br/>Warnings:<br/>[1] Standard Errors assume that the covariance matrix of the errors is correctly specified.<br/>[2] The condition number is large, 1.31e+04. This might indicate that there are<br/>strong multicollinearity or other numerical problems."
      ],
      "text/plain": [
       "<class 'statsmodels.iolib.summary.Summary'>\n",
       "\"\"\"\n",
       "                            OLS Regression Results                            \n",
       "==============================================================================\n",
       "Dep. Variable:              %Body Fat   R-squared:                       0.994\n",
       "Model:                            OLS   Adj. R-squared:                  0.994\n",
       "Method:                 Least Squares   F-statistic:                 2.082e+04\n",
       "Date:                Thu, 24 Jan 2019   Prob (F-statistic):          4.62e-276\n",
       "Time:                        19:54:19   Log-Likelihood:                -243.63\n",
       "No. Observations:                 250   AIC:                             493.3\n",
       "Df Residuals:                     247   BIC:                             503.8\n",
       "Df Model:                           2                                         \n",
       "Covariance Type:            nonrobust                                         \n",
       "==============================================================================\n",
       "                 coef    std err          t      P>|t|      [0.025      0.975]\n",
       "------------------------------------------------------------------------------\n",
       "const        480.5726      4.402    109.167      0.000     471.902     489.243\n",
       "Density     -438.3003      3.700   -118.469      0.000    -445.587    -431.013\n",
       "Abdomen        0.0125      0.006      1.936      0.054      -0.000       0.025\n",
       "==============================================================================\n",
       "Omnibus:                      406.732   Durbin-Watson:                   2.014\n",
       "Prob(Omnibus):                  0.000   Jarque-Bera (JB):           184884.000\n",
       "Skew:                          -7.838   Prob(JB):                         0.00\n",
       "Kurtosis:                     135.299   Cond. No.                     1.31e+04\n",
       "==============================================================================\n",
       "\n",
       "Warnings:\n",
       "[1] Standard Errors assume that the covariance matrix of the errors is correctly specified.\n",
       "[2] The condition number is large, 1.31e+04. This might indicate that there are\n",
       "strong multicollinearity or other numerical problems.\n",
       "\"\"\""
      ]
     },
     "execution_count": 244,
     "metadata": {},
     "output_type": "execute_result"
    }
   ],
   "source": [
    "x = X[['Density','Abdomen']]\n",
    "\n",
    "x_train = sm.add_constant(x)\n",
    "\n",
    "model = sm.OLS(y_train, x_train)\n",
    "model = model.fit()\n",
    "model.summary()"
   ]
  },
  {
   "cell_type": "markdown",
   "metadata": {},
   "source": [
    " "
   ]
  },
  {
   "cell_type": "markdown",
   "metadata": {},
   "source": [
    "#### Comparison of the Two Models"
   ]
  },
  {
   "cell_type": "markdown",
   "metadata": {},
   "source": [
    "The two-regressor model does not perform any better than the one-regressor model, (both have Rsquared values of 0.94). The p-value for abdomen of 0.054 indicates that it is not a statistically significant variable (p-value of 0.054), although is close to the cuttoff of 0.05."
   ]
  },
  {
   "cell_type": "markdown",
   "metadata": {},
   "source": [
    "## Problem 2"
   ]
  },
  {
   "cell_type": "code",
   "execution_count": 245,
   "metadata": {},
   "outputs": [
    {
     "data": {
      "text/html": [
       "<table class=\"simpletable\">\n",
       "<caption>OLS Regression Results</caption>\n",
       "<tr>\n",
       "  <th>Dep. Variable:</th>        <td>%Body Fat</td>    <th>  R-squared:         </th> <td>   0.702</td>\n",
       "</tr>\n",
       "<tr>\n",
       "  <th>Model:</th>                   <td>OLS</td>       <th>  Adj. R-squared:    </th> <td>   0.696</td>\n",
       "</tr>\n",
       "<tr>\n",
       "  <th>Method:</th>             <td>Least Squares</td>  <th>  F-statistic:       </th> <td>   115.0</td>\n",
       "</tr>\n",
       "<tr>\n",
       "  <th>Date:</th>             <td>Thu, 24 Jan 2019</td> <th>  Prob (F-statistic):</th> <td>4.18e-62</td>\n",
       "</tr>\n",
       "<tr>\n",
       "  <th>Time:</th>                 <td>19:56:28</td>     <th>  Log-Likelihood:    </th> <td> -733.94</td>\n",
       "</tr>\n",
       "<tr>\n",
       "  <th>No. Observations:</th>      <td>   250</td>      <th>  AIC:               </th> <td>   1480.</td>\n",
       "</tr>\n",
       "<tr>\n",
       "  <th>Df Residuals:</th>          <td>   244</td>      <th>  BIC:               </th> <td>   1501.</td>\n",
       "</tr>\n",
       "<tr>\n",
       "  <th>Df Model:</th>              <td>     5</td>      <th>                     </th>     <td> </td>   \n",
       "</tr>\n",
       "<tr>\n",
       "  <th>Covariance Type:</th>      <td>nonrobust</td>    <th>                     </th>     <td> </td>   \n",
       "</tr>\n",
       "</table>\n",
       "<table class=\"simpletable\">\n",
       "<tr>\n",
       "     <td></td>        <th>coef</th>     <th>std err</th>      <th>t</th>      <th>P>|t|</th>  <th>[0.025</th>    <th>0.975]</th>  \n",
       "</tr>\n",
       "<tr>\n",
       "  <th>const</th>   <td>   -8.7777</td> <td>    5.900</td> <td>   -1.488</td> <td> 0.138</td> <td>  -20.399</td> <td>    2.843</td>\n",
       "</tr>\n",
       "<tr>\n",
       "  <th>Abdomen</th> <td>    1.0093</td> <td>    0.079</td> <td>   12.841</td> <td> 0.000</td> <td>    0.854</td> <td>    1.164</td>\n",
       "</tr>\n",
       "<tr>\n",
       "  <th>Chest</th>   <td>   -0.1887</td> <td>    0.087</td> <td>   -2.158</td> <td> 0.032</td> <td>   -0.361</td> <td>   -0.016</td>\n",
       "</tr>\n",
       "<tr>\n",
       "  <th>Thigh</th>   <td>    0.2233</td> <td>    0.132</td> <td>    1.696</td> <td> 0.091</td> <td>   -0.036</td> <td>    0.483</td>\n",
       "</tr>\n",
       "<tr>\n",
       "  <th>Hip</th>     <td>   -0.4636</td> <td>    0.127</td> <td>   -3.644</td> <td> 0.000</td> <td>   -0.714</td> <td>   -0.213</td>\n",
       "</tr>\n",
       "<tr>\n",
       "  <th>Knee</th>    <td>   -0.3475</td> <td>    0.226</td> <td>   -1.537</td> <td> 0.126</td> <td>   -0.793</td> <td>    0.098</td>\n",
       "</tr>\n",
       "</table>\n",
       "<table class=\"simpletable\">\n",
       "<tr>\n",
       "  <th>Omnibus:</th>       <td> 1.304</td> <th>  Durbin-Watson:     </th> <td>   1.869</td>\n",
       "</tr>\n",
       "<tr>\n",
       "  <th>Prob(Omnibus):</th> <td> 0.521</td> <th>  Jarque-Bera (JB):  </th> <td>   1.225</td>\n",
       "</tr>\n",
       "<tr>\n",
       "  <th>Skew:</th>          <td> 0.033</td> <th>  Prob(JB):          </th> <td>   0.542</td>\n",
       "</tr>\n",
       "<tr>\n",
       "  <th>Kurtosis:</th>      <td> 2.664</td> <th>  Cond. No.          </th> <td>3.73e+03</td>\n",
       "</tr>\n",
       "</table><br/><br/>Warnings:<br/>[1] Standard Errors assume that the covariance matrix of the errors is correctly specified.<br/>[2] The condition number is large, 3.73e+03. This might indicate that there are<br/>strong multicollinearity or other numerical problems."
      ],
      "text/plain": [
       "<class 'statsmodels.iolib.summary.Summary'>\n",
       "\"\"\"\n",
       "                            OLS Regression Results                            \n",
       "==============================================================================\n",
       "Dep. Variable:              %Body Fat   R-squared:                       0.702\n",
       "Model:                            OLS   Adj. R-squared:                  0.696\n",
       "Method:                 Least Squares   F-statistic:                     115.0\n",
       "Date:                Thu, 24 Jan 2019   Prob (F-statistic):           4.18e-62\n",
       "Time:                        19:56:28   Log-Likelihood:                -733.94\n",
       "No. Observations:                 250   AIC:                             1480.\n",
       "Df Residuals:                     244   BIC:                             1501.\n",
       "Df Model:                           5                                         \n",
       "Covariance Type:            nonrobust                                         \n",
       "==============================================================================\n",
       "                 coef    std err          t      P>|t|      [0.025      0.975]\n",
       "------------------------------------------------------------------------------\n",
       "const         -8.7777      5.900     -1.488      0.138     -20.399       2.843\n",
       "Abdomen        1.0093      0.079     12.841      0.000       0.854       1.164\n",
       "Chest         -0.1887      0.087     -2.158      0.032      -0.361      -0.016\n",
       "Thigh          0.2233      0.132      1.696      0.091      -0.036       0.483\n",
       "Hip           -0.4636      0.127     -3.644      0.000      -0.714      -0.213\n",
       "Knee          -0.3475      0.226     -1.537      0.126      -0.793       0.098\n",
       "==============================================================================\n",
       "Omnibus:                        1.304   Durbin-Watson:                   1.869\n",
       "Prob(Omnibus):                  0.521   Jarque-Bera (JB):                1.225\n",
       "Skew:                           0.033   Prob(JB):                        0.542\n",
       "Kurtosis:                       2.664   Cond. No.                     3.73e+03\n",
       "==============================================================================\n",
       "\n",
       "Warnings:\n",
       "[1] Standard Errors assume that the covariance matrix of the errors is correctly specified.\n",
       "[2] The condition number is large, 3.73e+03. This might indicate that there are\n",
       "strong multicollinearity or other numerical problems.\n",
       "\"\"\""
      ]
     },
     "execution_count": 245,
     "metadata": {},
     "output_type": "execute_result"
    }
   ],
   "source": [
    "x = X[['Abdomen','Chest','Thigh','Hip','Knee']]\n",
    "\n",
    "x = sm.add_constant(x)\n",
    "x_train = x\n",
    "\n",
    "model = sm.OLS(y_train, x_train)\n",
    "model = model.fit()\n",
    "model.summary()"
   ]
  },
  {
   "cell_type": "markdown",
   "metadata": {},
   "source": [
    "#### Statistical Significance of Model Parameters"
   ]
  },
  {
   "cell_type": "markdown",
   "metadata": {},
   "source": [
    "To determine if the model parameters are statistically significant at the 95% level, the p-values can be analyzed. \n",
    "\n",
    "The only paramters with p-values of less than 0.05 (and therefore significant at the 95% level) are:\n",
    "* Abdomen\n",
    "* Hip\n",
    "* Chest\n",
    "\n",
    "The parameters that are not statistically significant are:\n",
    "* Thigh\n",
    "* Knee"
   ]
  },
  {
   "cell_type": "markdown",
   "metadata": {},
   "source": [
    "#### Variance Inflation Factors (VIF)"
   ]
  },
  {
   "cell_type": "code",
   "execution_count": 1,
   "metadata": {},
   "outputs": [
    {
     "ename": "NameError",
     "evalue": "name 'pd' is not defined",
     "output_type": "error",
     "traceback": [
      "\u001b[1;31m---------------------------------------------------------------------------\u001b[0m",
      "\u001b[1;31mNameError\u001b[0m                                 Traceback (most recent call last)",
      "\u001b[1;32m<ipython-input-1-b5779828ee6b>\u001b[0m in \u001b[0;36m<module>\u001b[1;34m\u001b[0m\n\u001b[0;32m      1\u001b[0m \u001b[1;32mfrom\u001b[0m \u001b[0mstatsmodels\u001b[0m\u001b[1;33m.\u001b[0m\u001b[0mstats\u001b[0m\u001b[1;33m.\u001b[0m\u001b[0moutliers_influence\u001b[0m \u001b[1;32mimport\u001b[0m \u001b[0mvariance_inflation_factor\u001b[0m\u001b[1;33m\u001b[0m\u001b[1;33m\u001b[0m\u001b[0m\n\u001b[0;32m      2\u001b[0m \u001b[1;33m\u001b[0m\u001b[0m\n\u001b[1;32m----> 3\u001b[1;33m \u001b[0mvif\u001b[0m \u001b[1;33m=\u001b[0m \u001b[0mpd\u001b[0m\u001b[1;33m.\u001b[0m\u001b[0mDataFrame\u001b[0m\u001b[1;33m(\u001b[0m\u001b[1;33m)\u001b[0m\u001b[1;33m\u001b[0m\u001b[1;33m\u001b[0m\u001b[0m\n\u001b[0m\u001b[0;32m      4\u001b[0m \u001b[0mvif\u001b[0m\u001b[1;33m[\u001b[0m\u001b[1;34m\"features\"\u001b[0m\u001b[1;33m]\u001b[0m \u001b[1;33m=\u001b[0m \u001b[0mx\u001b[0m\u001b[1;33m.\u001b[0m\u001b[0mcolumns\u001b[0m\u001b[1;33m\u001b[0m\u001b[1;33m\u001b[0m\u001b[0m\n\u001b[0;32m      5\u001b[0m \u001b[0mvif\u001b[0m\u001b[1;33m[\u001b[0m\u001b[1;34m\"VIF Factor\"\u001b[0m\u001b[1;33m]\u001b[0m \u001b[1;33m=\u001b[0m \u001b[1;33m[\u001b[0m\u001b[0mvariance_inflation_factor\u001b[0m\u001b[1;33m(\u001b[0m\u001b[0mx\u001b[0m\u001b[1;33m.\u001b[0m\u001b[0mvalues\u001b[0m\u001b[1;33m,\u001b[0m \u001b[0mi\u001b[0m\u001b[1;33m)\u001b[0m \u001b[1;32mfor\u001b[0m \u001b[0mi\u001b[0m \u001b[1;32min\u001b[0m \u001b[0mrange\u001b[0m\u001b[1;33m(\u001b[0m\u001b[0mx\u001b[0m\u001b[1;33m.\u001b[0m\u001b[0mshape\u001b[0m\u001b[1;33m[\u001b[0m\u001b[1;36m1\u001b[0m\u001b[1;33m]\u001b[0m\u001b[1;33m)\u001b[0m\u001b[1;33m]\u001b[0m\u001b[1;33m\u001b[0m\u001b[1;33m\u001b[0m\u001b[0m\n",
      "\u001b[1;31mNameError\u001b[0m: name 'pd' is not defined"
     ]
    }
   ],
   "source": [
    "from statsmodels.stats.outliers_influence import variance_inflation_factor\n",
    "\n",
    "vif = pd.DataFrame()\n",
    "vif[\"VIF Factor\"] = [variance_inflation_factor(x.values, i) for i in range(x.shape[1])]\n",
    "vif.round(2)"
   ]
  },
  {
   "cell_type": "markdown",
   "metadata": {},
   "source": [
    "None of the regressors have serious multicollinearity (VIF > 10). Abdomen, chest, thigh and hip all have VIF > 4, which suggests some multicollinearity that is worth considering. "
   ]
  }
 ],
 "metadata": {
  "kernelspec": {
   "display_name": "Python 3",
   "language": "python",
   "name": "python3"
  },
  "language_info": {
   "codemirror_mode": {
    "name": "ipython",
    "version": 3
   },
   "file_extension": ".py",
   "mimetype": "text/x-python",
   "name": "python",
   "nbconvert_exporter": "python",
   "pygments_lexer": "ipython3",
   "version": "3.7.1"
  }
 },
 "nbformat": 4,
 "nbformat_minor": 2
}
